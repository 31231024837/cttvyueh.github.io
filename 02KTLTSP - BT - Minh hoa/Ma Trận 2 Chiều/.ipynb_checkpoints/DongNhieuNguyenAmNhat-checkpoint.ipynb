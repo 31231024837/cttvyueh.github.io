{
 "cells": [
  {
   "cell_type": "markdown",
   "id": "456d5453-b2f9-4e54-a068-02d0bc41454a",
   "metadata": {},
   "source": [
    "# Bài 4: Dòng nhiều nguyên âm nhất"
   ]
  },
  {
   "cell_type": "raw",
   "id": "2a5019f8-c4f6-4c43-91f9-c341ce040ca2",
   "metadata": {},
   "source": [
    "Cho ma trận A chứa các ký tự có n dòng và m cột (1 ≤ n, m ≤ 100). Hãy tìm dòng\n",
    "có chứa nhiều ký tự nguyên âm nhất. Biết các ký tự A, E, O, I, U là nguyên âm."
   ]
  },
  {
   "cell_type": "code",
   "execution_count": 1,
   "id": "5637bc5d-ec1d-4c2b-96dd-37d9549cc862",
   "metadata": {},
   "outputs": [
    {
     "name": "stdin",
     "output_type": "stream",
     "text": [
      "Nhập số dòng và số cột (n m):  3 3\n"
     ]
    },
    {
     "name": "stdout",
     "output_type": "stream",
     "text": [
      "Nhập các phần tử của ma trận A:\n"
     ]
    },
    {
     "name": "stdin",
     "output_type": "stream",
     "text": [
      " A c e \n",
      " d b g \n",
      " U i E\n"
     ]
    },
    {
     "name": "stdout",
     "output_type": "stream",
     "text": [
      "Dong 3 co nhieu nguyen am nhat voi so luong nguyen am la 3.\n"
     ]
    }
   ],
   "source": [
    "n, m = map(int, input(\"Nhập số dòng và số cột (n m): \").split())\n",
    "\n",
    "A = []\n",
    "print(\"Nhập các phần tử của ma trận A:\")\n",
    "for i in range(n):\n",
    "    row = input().split()\n",
    "    A.append(row)\n",
    "\n",
    "vowels = set(\"AEIOUaeiou\") #Tập hợp các nguyên âm (chữ hoa và thường)\n",
    "\n",
    "# Tìm dòng có nhiều nguyên âm nhất\n",
    "max_vowel_count = 0\n",
    "max_row_index = -1\n",
    "\n",
    "for i in range(n):\n",
    "    count = sum(1 for ch in A[i] if ch in vowels)\n",
    "    if count > max_vowel_count:\n",
    "        max_vowel_count = count\n",
    "        max_row_index = i\n",
    "\n",
    "if max_row_index != -1:\n",
    "    print(f\"Dong {max_row_index + 1} co nhieu nguyen am nhat voi so luong nguyen am la {max_vowel_count}.\")\n",
    "else:\n",
    "    print(\"Khong co nguyen am nao trong ma tran.\")"
   ]
  }
 ],
 "metadata": {
  "kernelspec": {
   "display_name": "Python 3 (ipykernel)",
   "language": "python",
   "name": "python3"
  },
  "language_info": {
   "codemirror_mode": {
    "name": "ipython",
    "version": 3
   },
   "file_extension": ".py",
   "mimetype": "text/x-python",
   "name": "python",
   "nbconvert_exporter": "python",
   "pygments_lexer": "ipython3",
   "version": "3.12.1"
  }
 },
 "nbformat": 4,
 "nbformat_minor": 5
}
