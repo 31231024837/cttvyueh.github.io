{
 "cells": [
  {
   "cell_type": "markdown",
   "id": "d03a31ec-b7be-4b5c-91c1-8779bb9a1f71",
   "metadata": {},
   "source": [
    "# Bài 5: In các cột, dòng theo hình \n",
    "Cho ma trận vuông A cấp n chứa các số nguyên (1 ≤ n ≤ 100). Hãy viết hàm liệt kê các\n",
    "phần tử nằm trên các cột (dòng) theo như hình bên dưới."
   ]
  },
  {
   "cell_type": "code",
   "execution_count": 1,
   "id": "233b88c5-3074-46e2-9170-9e895d7501b9",
   "metadata": {},
   "outputs": [
    {
     "name": "stdin",
     "output_type": "stream",
     "text": [
      "Nhập cấp ma trận n:  5\n"
     ]
    },
    {
     "name": "stdout",
     "output_type": "stream",
     "text": [
      "Nhập ma trận:\n"
     ]
    },
    {
     "name": "stdin",
     "output_type": "stream",
     "text": [
      " 1 2 3 4 5 \n",
      " 6 7 8 9 10\n",
      " 11 12 13 14 15 \n",
      " 16 17 18 19 20 \n",
      " 21 22 23 24 25\n"
     ]
    },
    {
     "name": "stdout",
     "output_type": "stream",
     "text": [
      "Các dòng theo hình:\n",
      "[1, 2, 3, 4, 5]\n",
      "[10, 9, 8, 7, 6]\n",
      "[11, 12, 13, 14, 15]\n",
      "[20, 19, 18, 17, 16]\n",
      "[21, 22, 23, 24, 25]\n",
      "\n",
      "Các cột theo hình:\n",
      "[1, 6, 11, 16, 21]\n",
      "[22, 17, 12, 7, 2]\n",
      "[3, 8, 13, 18, 23]\n",
      "[24, 19, 14, 9, 4]\n",
      "[5, 10, 15, 20, 25]\n"
     ]
    }
   ],
   "source": [
    "def in_cac_dong_cot_theo_hinh(A):\n",
    "    n = len(A)\n",
    "    \n",
    "    # In các dòng theo hình (ngược dòng thứ 2,4,...)\n",
    "    cac_dong = []\n",
    "    for i in range(n):\n",
    "        if i % 2 == 0:\n",
    "            cac_dong.append(A[i])\n",
    "        else:\n",
    "            cac_dong.append(A[i][::-1])\n",
    "    \n",
    "    print(\"Các dòng theo hình:\")\n",
    "    for d in cac_dong:\n",
    "        print(d)\n",
    "    \n",
    "    # In các cột theo hình\n",
    "    cac_cot = [[] for _ in range(n)]\n",
    "    for j in range(n):\n",
    "        if j % 2 == 0:\n",
    "            for i in range(n):\n",
    "                cac_cot[j].append(A[i][j])\n",
    "        else:\n",
    "            for i in range(n-1, -1, -1):\n",
    "                cac_cot[j].append(A[i][j])\n",
    "    \n",
    "    print(\"\\nCác cột theo hình:\")\n",
    "    for c in cac_cot:\n",
    "        print(c)\n",
    "\n",
    "n = int(input(\"Nhập cấp ma trận n: \"))\n",
    "\n",
    "A = []\n",
    "print(\"Nhập ma trận:\")\n",
    "for i in range(n):\n",
    "    row = list(map(int, input().split()))\n",
    "    A.append(row)\n",
    "in_cac_dong_cot_theo_hinh(A)"
   ]
  },
  {
   "cell_type": "code",
   "execution_count": null,
   "id": "f4f43d4c-6efe-41c9-a622-1dc46466f86b",
   "metadata": {},
   "outputs": [],
   "source": []
  }
 ],
 "metadata": {
  "kernelspec": {
   "display_name": "Python 3 (ipykernel)",
   "language": "python",
   "name": "python3"
  },
  "language_info": {
   "codemirror_mode": {
    "name": "ipython",
    "version": 3
   },
   "file_extension": ".py",
   "mimetype": "text/x-python",
   "name": "python",
   "nbconvert_exporter": "python",
   "pygments_lexer": "ipython3",
   "version": "3.12.1"
  }
 },
 "nbformat": 4,
 "nbformat_minor": 5
}
