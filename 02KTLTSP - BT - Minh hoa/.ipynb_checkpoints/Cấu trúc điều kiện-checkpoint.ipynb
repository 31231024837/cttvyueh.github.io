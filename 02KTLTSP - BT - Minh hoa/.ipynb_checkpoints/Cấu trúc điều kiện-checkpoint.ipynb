{
 "cells": [
  {
   "cell_type": "raw",
   "id": "b3b3da2c-76e1-4fa3-98d4-c51680a0a3f3",
   "metadata": {},
   "source": [
    "FILE PDF: 02KTLTSP - BT - Minh hoa"
   ]
  },
  {
   "cell_type": "markdown",
   "id": "01def836-4537-4d6a-96be-63d5dc9ddf9f",
   "metadata": {},
   "source": [
    "# CẤU TRÚC ĐIỀU KIỆN"
   ]
  },
  {
   "cell_type": "markdown",
   "id": "798e0e78-ce29-40c8-ac00-6d8e8930354d",
   "metadata": {},
   "source": [
    "### 1. Nhập một số bất kỳ. Hãy đọc giá trị của số nguyên đó nếu nó có giá trị từ 1 đến 9, ngược lại thông báo không đọc được."
   ]
  },
  {
   "cell_type": "code",
   "execution_count": 5,
   "id": "f2299943-f8d2-48c9-bec9-6dbff623fc0c",
   "metadata": {},
   "outputs": [
    {
     "name": "stdin",
     "output_type": "stream",
     "text": [
      "Nhập một số nguyên:  2\n"
     ]
    },
    {
     "name": "stdout",
     "output_type": "stream",
     "text": [
      "Hai\n"
     ]
    }
   ],
   "source": [
    "A = int(input(\"Nhập một số nguyên: \"))\n",
    "\n",
    "if A == 1:\n",
    "    print(\"Một\")\n",
    "elif A == 2:\n",
    "    print(\"Hai\")\n",
    "elif A == 3:\n",
    "    print(\"Ba\")\n",
    "elif A == 4:\n",
    "    print(\"Bốn\")\n",
    "elif A == 5:\n",
    "    print(\"Năm\")\n",
    "elif A == 6:\n",
    "    print(\"Sáu\")\n",
    "elif A == 7:\n",
    "    print(\"Bảy\")\n",
    "elif A == 8:\n",
    "    print(\"Tám\")\n",
    "elif A == 9:\n",
    "    print(\"Chín\")\n",
    "else:\n",
    "    print(\"Không đọc được\")"
   ]
  },
  {
   "cell_type": "markdown",
   "id": "558bc9c3-e6ea-4ccf-871d-46aeb3f4cbf0",
   "metadata": {},
   "source": [
    "### 2. Nhập một chữ cái. Nếu là chữ thường thì đổi sang chữ hoa, ngược lại đổi sang chữ thường."
   ]
  },
  {
   "cell_type": "code",
   "execution_count": 6,
   "id": "67858106-4238-4a31-a602-9aca40513b5b",
   "metadata": {},
   "outputs": [
    {
     "name": "stdin",
     "output_type": "stream",
     "text": [
      "Nhập một chữ cái:  a\n"
     ]
    },
    {
     "name": "stdout",
     "output_type": "stream",
     "text": [
      "Đổi sang chữ hoa: A\n"
     ]
    }
   ],
   "source": [
    "ch = input(\"Nhập một chữ cái: \")\n",
    "\n",
    "if ch.islower():\n",
    "    print(\"Đổi sang chữ hoa:\", ch.upper())\n",
    "elif ch.isupper():\n",
    "    print(\"Đổi sang chữ thường:\", ch.lower())\n",
    "else:\n",
    "    print(\"Ký tự không hợp lệ!\")"
   ]
  },
  {
   "cell_type": "markdown",
   "id": "1a3acb22-3fa1-4dea-ad04-348cec698f91",
   "metadata": {},
   "source": [
    "### 3. Giải phương trình bậc nhất ax + b = 0."
   ]
  },
  {
   "cell_type": "code",
   "execution_count": 8,
   "id": "f436c2f9-6b4f-498f-a9c2-12dbb1d67add",
   "metadata": {},
   "outputs": [
    {
     "name": "stdin",
     "output_type": "stream",
     "text": [
      "Nhập a =  4\n",
      "Nhập b =  5\n"
     ]
    },
    {
     "name": "stdout",
     "output_type": "stream",
     "text": [
      "Nghiệm của phương trình là: x = -1.25\n"
     ]
    }
   ],
   "source": [
    "a = float(input(\"Nhập a = \"))\n",
    "b = float(input(\"Nhập b = \"))\n",
    "\n",
    "if a == 0:\n",
    "    if b == 0:\n",
    "        print(\"Phương trình có vô số nghiệm.\")\n",
    "    else:\n",
    "        print(\"Phương trình vô nghiệm.\")\n",
    "else:\n",
    "    x = -b / a\n",
    "    print(\"Nghiệm của phương trình là: x =\", x)"
   ]
  },
  {
   "cell_type": "markdown",
   "id": "5d3337bd-9d56-44b6-849f-8218b877acac",
   "metadata": {},
   "source": [
    "### 4. Giải phương trình bậc hai ax2 + bx + c = 0"
   ]
  },
  {
   "cell_type": "code",
   "execution_count": 7,
   "id": "9d252d1a-6ad4-4355-bfad-699fe7f2bb50",
   "metadata": {},
   "outputs": [
    {
     "name": "stdin",
     "output_type": "stream",
     "text": [
      "Nhập a =  1\n",
      "Nhập b =  4\n",
      "Nhập c =  4\n"
     ]
    },
    {
     "name": "stdout",
     "output_type": "stream",
     "text": [
      "Phương trình có nghiệm kép: x1 = x2 = -2.0\n"
     ]
    }
   ],
   "source": [
    "# import math\n",
    "\n",
    "a = float(input(\"Nhập a = \"))\n",
    "b = float(input(\"Nhập b = \"))\n",
    "c = float(input(\"Nhập c = \"))\n",
    "\n",
    "if a == 0:\n",
    "    if b == 0:\n",
    "        if c == 0:\n",
    "            print(\"Phương trình có vô số nghiệm.\")\n",
    "        else:\n",
    "            print(\"Phương trình vô nghiệm.\")\n",
    "    else:\n",
    "        x = -c / b\n",
    "        print(\"Phương trình có một nghiệm: x =\", x)\n",
    "else:\n",
    "    delta = b**2 - 4*a*c\n",
    "    if delta < 0:\n",
    "        print(\"Phương trình vô nghiệm.\")\n",
    "    elif delta == 0:\n",
    "        x = -b / (2*a)\n",
    "        print(\"Phương trình có nghiệm kép: x1 = x2 =\", x)\n",
    "    else:\n",
    "        x1 = (-b + math.sqrt(delta)) / (2*a)\n",
    "        x2 = (-b - math.sqrt(delta)) / (2*a)\n",
    "        print(\"Phương trình có 2 nghiệm phân biệt:\")\n",
    "        print(\"x1 =\", x1)\n",
    "        print(\"x2 =\", x2)"
   ]
  },
  {
   "cell_type": "markdown",
   "id": "e170d6d8-c6f9-41b5-8aec-eda9002b8148",
   "metadata": {},
   "source": [
    "### 5. Nhập 4 số nguyên a, b, c và d. Tìm số có giá trị nhỏ nhất (min)"
   ]
  },
  {
   "cell_type": "code",
   "execution_count": 8,
   "id": "db9c9e2f-c42d-432b-afcb-e4a60539a347",
   "metadata": {},
   "outputs": [
    {
     "name": "stdin",
     "output_type": "stream",
     "text": [
      "Nhập a:  3\n",
      "Nhập b:  7\n",
      "Nhập c:  1\n",
      "Nhập d:  3\n"
     ]
    },
    {
     "name": "stdout",
     "output_type": "stream",
     "text": [
      "Số nhỏ nhất là: 1\n"
     ]
    }
   ],
   "source": [
    "a = int(input(\"Nhập a: \"))\n",
    "b = int(input(\"Nhập b: \"))\n",
    "c = int(input(\"Nhập c: \"))\n",
    "d = int(input(\"Nhập d: \"))\n",
    "\n",
    "min_num = a\n",
    "if b < min_num:\n",
    "    min_num = b\n",
    "if c < min_num:\n",
    "    min_num = c\n",
    "if d < min_num:\n",
    "    min_num = d\n",
    "\n",
    "print(\"Số nhỏ nhất là:\", min_num)"
   ]
  },
  {
   "cell_type": "markdown",
   "id": "5b0b0688-be4d-45c2-84e4-d0374039dc2b",
   "metadata": {},
   "source": [
    "### 6. Nhập 4 số nguyên a, b, c và d. Hãy sắp xếp giá trị của 4 số nguyên này theo thứ tự tăng dần."
   ]
  },
  {
   "cell_type": "code",
   "execution_count": 2,
   "id": "0928b55d-f7b3-46f0-b3e5-6aff8fa9f98a",
   "metadata": {},
   "outputs": [
    {
     "name": "stdin",
     "output_type": "stream",
     "text": [
      "Nhập a:  1\n",
      "Nhập b:  5\n",
      "Nhập c:  33\n",
      "Nhập d:  6\n"
     ]
    },
    {
     "name": "stdout",
     "output_type": "stream",
     "text": [
      "Thứ tự tăng dần là: [1, 5, 6, 33]\n"
     ]
    }
   ],
   "source": [
    "a = int(input(\"Nhập a: \"))\n",
    "b = int(input(\"Nhập b: \"))\n",
    "c = int(input(\"Nhập c: \"))\n",
    "d = int(input(\"Nhập d: \"))\n",
    "\n",
    "lst = [a, b, c, d]\n",
    "lst.sort()\n",
    "\n",
    "print(\"Thứ tự tăng dần là:\", lst)"
   ]
  },
  {
   "cell_type": "markdown",
   "id": "816c45bb-2a68-463f-86a8-bfe322f1a09e",
   "metadata": {},
   "source": [
    "### 7. Tính tiền đi taxi từ số km nhập vào. Biết:"
   ]
  },
  {
   "cell_type": "raw",
   "id": "4ae16530-ba1e-43f7-91b5-9c68cfb64d64",
   "metadata": {},
   "source": [
    "• 1 km đầu giá 15000đ\n",
    "• Từ km thứ 2 đến km thứ 5 giá 13500đ\n",
    "• Từ km thứ 6 trở đi giá 11000\n",
    "• Nếu trên 120km được giảm 10% tổng tiền."
   ]
  },
  {
   "cell_type": "code",
   "execution_count": 3,
   "id": "9f261441-afa1-455d-89c3-77264de9364f",
   "metadata": {},
   "outputs": [
    {
     "name": "stdin",
     "output_type": "stream",
     "text": [
      "Nhập số km đi được:  20\n"
     ]
    },
    {
     "name": "stdout",
     "output_type": "stream",
     "text": [
      "Số tiền cần trả là: 234000.0 đồng\n"
     ]
    }
   ],
   "source": [
    "km = float(input(\"Nhập số km đi được: \"))\n",
    "\n",
    "if km <= 1:\n",
    "    money = 15000\n",
    "elif km <= 5:\n",
    "    money = 15000 + (km - 1) * 13500\n",
    "else:\n",
    "    money = 15000 + 4 * 13500 + (km - 5) * 11000\n",
    "\n",
    "# Giảm 10% nếu > 120 km\n",
    "if km > 120:\n",
    "    money *= 0.9\n",
    "\n",
    "print(\"Số tiền cần trả là:\", round(money, 0), \"đồng\")"
   ]
  },
  {
   "cell_type": "markdown",
   "id": "1dcb1231-9a0d-4b47-835c-2ce27c82e90f",
   "metadata": {},
   "source": [
    "### 8. Nhập vào tháng và năm. Cho biết tháng đó có bao nhiêu ngày."
   ]
  },
  {
   "cell_type": "code",
   "execution_count": 5,
   "id": "cec17b7d-738e-4013-9f26-0018c73106c8",
   "metadata": {},
   "outputs": [
    {
     "name": "stdin",
     "output_type": "stream",
     "text": [
      "Nhập tháng (1-12):  2\n",
      "Nhập năm:  2005\n"
     ]
    },
    {
     "name": "stdout",
     "output_type": "stream",
     "text": [
      "Tháng 2 có 28 ngày.\n"
     ]
    }
   ],
   "source": [
    "month = int(input(\"Nhập tháng (1-12): \"))\n",
    "year = int(input(\"Nhập năm: \"))\n",
    "\n",
    "if month in [1, 3, 5, 7, 8, 10, 12]:\n",
    "    print(\"Tháng\", month, \"có 31 ngày.\")\n",
    "elif month in [4, 6, 9, 11]:\n",
    "    print(\"Tháng\", month, \"có 30 ngày.\")\n",
    "elif month == 2:\n",
    "    # Năm nhuận nếu chia hết cho 4 nhưng không chia hết cho 100, hoặc chia hết cho 400\n",
    "    if (year % 4 == 0 and year % 100 != 0) or (year % 400 == 0):\n",
    "        print(\"Tháng 2 có 29 ngày (năm nhuận).\")\n",
    "    else:\n",
    "        print(\"Tháng 2 có 28 ngày.\")\n",
    "else:\n",
    "    print(\"Tháng không hợp lệ!\")"
   ]
  },
  {
   "cell_type": "markdown",
   "id": "53a6d281-35f5-4854-8b27-0a557f9fe9de",
   "metadata": {},
   "source": [
    "### 9. Nhập độ dài 3 cạnh 1 tam giác. Kiểm tra đó có phải là tam giác không và là tam giác gì?"
   ]
  },
  {
   "cell_type": "code",
   "execution_count": 6,
   "id": "0a1a8640-b5e4-434f-856a-13a35b18e9fd",
   "metadata": {},
   "outputs": [
    {
     "name": "stdin",
     "output_type": "stream",
     "text": [
      "Nhập cạnh a:  4\n",
      "Nhập cạnh b:  5\n",
      "Nhập cạnh c:  3\n"
     ]
    },
    {
     "name": "stdout",
     "output_type": "stream",
     "text": [
      "Đây là một tam giác.\n",
      "→ Tam giác vuông.\n"
     ]
    }
   ],
   "source": [
    "a = float(input(\"Nhập cạnh a: \"))\n",
    "b = float(input(\"Nhập cạnh b: \"))\n",
    "c = float(input(\"Nhập cạnh c: \"))\n",
    "\n",
    "if a + b > c and a + c > b and b + c > a:\n",
    "    print(\"Đây là một tam giác.\")\n",
    "    if a == b == c:\n",
    "        print(\"→ Tam giác đều.\")\n",
    "    elif a == b or b == c or a == c:\n",
    "        print(\"→ Tam giác cân.\")\n",
    "    elif a*a + b*b == c*c or a*a + c*c == b*b or b*b + c*c == a*a:\n",
    "        print(\"→ Tam giác vuông.\")\n",
    "    else:\n",
    "        print(\"→ Tam giác thường.\")\n",
    "else:\n",
    "    print(\"Ba cạnh không tạo thành tam giác.\")"
   ]
  }
 ],
 "metadata": {
  "kernelspec": {
   "display_name": "Python 3 (ipykernel)",
   "language": "python",
   "name": "python3"
  },
  "language_info": {
   "codemirror_mode": {
    "name": "ipython",
    "version": 3
   },
   "file_extension": ".py",
   "mimetype": "text/x-python",
   "name": "python",
   "nbconvert_exporter": "python",
   "pygments_lexer": "ipython3",
   "version": "3.12.1"
  }
 },
 "nbformat": 4,
 "nbformat_minor": 5
}
