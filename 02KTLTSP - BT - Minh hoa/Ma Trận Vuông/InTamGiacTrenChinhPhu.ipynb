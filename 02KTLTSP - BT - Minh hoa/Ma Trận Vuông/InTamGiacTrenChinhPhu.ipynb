{
 "cells": [
  {
   "cell_type": "markdown",
   "id": "944aec7e-16f0-49ba-9c0f-19c144a7ac20",
   "metadata": {},
   "source": [
    "# Bài 2: In tam giác trên chéo chính, phụ\n",
    "Cho ma trận vuông A cấp n chứa các số thực (1 ≤ n ≤ 100). Hãy viết hàm liệt kê các phần\n",
    "tử nằm trong tam giác trên của đường chéo chính, phụ của ma trận vuông A (không tính\n",
    "nằm trên đường chéo chính, phụ)"
   ]
  },
  {
   "cell_type": "code",
   "execution_count": 6,
   "id": "327c5ffc-1d78-47da-974f-b709b2beded5",
   "metadata": {},
   "outputs": [
    {
     "name": "stdin",
     "output_type": "stream",
     "text": [
      "Nhập cấp ma trận n:  5\n"
     ]
    },
    {
     "name": "stdout",
     "output_type": "stream",
     "text": [
      "Nhập ma trận:\n"
     ]
    },
    {
     "name": "stdin",
     "output_type": "stream",
     "text": [
      " 5 5 5 0 0 \n",
      " 0 5 0 1 1 \n",
      " 0 5 0 0 0 \n",
      " 0 0 0 2 3 \n",
      " 1 1 1 4 7\n"
     ]
    },
    {
     "name": "stdout",
     "output_type": "stream",
     "text": [
      "Tam giác trên đường chéo chính: 5 5 0 0 0 1 1 0 0 3\n",
      "Tam giác trên đường chéo phụ: 5 5 5 0 0 5 0 0 5 0\n"
     ]
    }
   ],
   "source": [
    "def in_tam_giac_tren_chinh_phu(A):\n",
    "    n = len(A)\n",
    "    tam_giac_chinh = []\n",
    "    tam_giac_phu = []\n",
    "    \n",
    "    for i in range(n):\n",
    "        for j in range(n):\n",
    "            if i < j: #Tam giác trên đường chéo chính: i < j\n",
    "                tam_giac_chinh.append(int(A[i][j]) if A[i][j].is_integer() else A[i][j])\n",
    "            if i + j < n - 1:  #Tam giác trên đường chéo phụ: i + j < n - 1\n",
    "                tam_giac_phu.append(int(A[i][j]) if A[i][j].is_integer() else A[i][j])\n",
    "    \n",
    "    print(\"Tam giác trên đường chéo chính:\", *tam_giac_chinh)\n",
    "    print(\"Tam giác trên đường chéo phụ:\", *tam_giac_phu)\n",
    "\n",
    "n = int(input(\"Nhập cấp ma trận n: \"))\n",
    "\n",
    "A = []\n",
    "print(\"Nhập ma trận:\")\n",
    "for i in range(n):\n",
    "    row = list(map(float, input().split()))\n",
    "    A.append(row)\n",
    "\n",
    "in_tam_giac_tren_chinh_phu(A)"
   ]
  }
 ],
 "metadata": {
  "kernelspec": {
   "display_name": "Python 3 (ipykernel)",
   "language": "python",
   "name": "python3"
  },
  "language_info": {
   "codemirror_mode": {
    "name": "ipython",
    "version": 3
   },
   "file_extension": ".py",
   "mimetype": "text/x-python",
   "name": "python",
   "nbconvert_exporter": "python",
   "pygments_lexer": "ipython3",
   "version": "3.12.1"
  }
 },
 "nbformat": 4,
 "nbformat_minor": 5
}
