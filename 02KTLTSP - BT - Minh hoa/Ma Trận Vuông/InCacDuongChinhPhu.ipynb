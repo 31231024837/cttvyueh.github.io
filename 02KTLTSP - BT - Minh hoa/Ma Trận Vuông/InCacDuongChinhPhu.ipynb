{
 "cells": [
  {
   "cell_type": "markdown",
   "id": "521b0272-d695-4e4c-881c-ab43cceabafc",
   "metadata": {},
   "source": [
    "# Bài 4: In các đường song song chéo chính, phụ \n",
    "Cho ma trận vuông A cấp n chứa các số nguyên (1 ≤ n ≤ 100). Hãy viết hàm liệt kê các\n",
    "phần tử nằm trên các đường song song với chéo chính, phụ của ma trận vuông A theo\n",
    "hình bên dưới"
   ]
  },
  {
   "cell_type": "code",
   "execution_count": 3,
   "id": "61bf8efa-83c3-4482-8427-c019e81911fb",
   "metadata": {},
   "outputs": [
    {
     "name": "stdin",
     "output_type": "stream",
     "text": [
      "Nhập cấp ma trận n:  5\n"
     ]
    },
    {
     "name": "stdout",
     "output_type": "stream",
     "text": [
      "Nhập ma trận:\n"
     ]
    },
    {
     "name": "stdin",
     "output_type": "stream",
     "text": [
      " 1 2 3 4 5 \n",
      " 6 7 8 9 10 \n",
      " 11 12 13 14 15 \n",
      " 16 17 18 19 20 \n",
      " 21 22 23 24 25\n"
     ]
    },
    {
     "name": "stdout",
     "output_type": "stream",
     "text": [
      "Các đường song song với đường chéo chính:\n",
      "[5]\n",
      "[4, 10]\n",
      "[3, 9, 15]\n",
      "[2, 8, 14, 20]\n",
      "[1, 7, 13, 19, 25]\n",
      "[6, 12, 18, 24]\n",
      "[11, 17, 23]\n",
      "[16, 22]\n",
      "[21]\n",
      "\n",
      "Các đường song song với đường chéo phụ:\n",
      "[1]\n",
      "[2, 6]\n",
      "[3, 7, 11]\n",
      "[4, 8, 12, 16]\n",
      "[5, 9, 13, 17, 21]\n",
      "[10, 14, 18, 22]\n",
      "[15, 19, 23]\n",
      "[20, 24]\n",
      "[25]\n"
     ]
    }
   ],
   "source": [
    "def in_cac_duong_song_song(A):\n",
    "    n = len(A)\n",
    "    \n",
    "    #Danh sách các đường song song với đường chéo chính\n",
    "    duong_chinh = [[] for _ in range(2*n-1)] \n",
    "    for i in range(n):\n",
    "        for j in range(n):\n",
    "            duong_chinh[i-j + (n-1)].append(A[i][j])\n",
    "    \n",
    "    #Danh sách các đường song song với đường chéo phụ\n",
    "    duong_phu = [[] for _ in range(2*n-1)]\n",
    "    for i in range(n):\n",
    "        for j in range(n):\n",
    "            duong_phu[i+j].append(A[i][j])\n",
    "    \n",
    "    print(\"Các đường song song với đường chéo chính:\")\n",
    "    for d in duong_chinh:\n",
    "        print(d)\n",
    "    \n",
    "    print(\"\\nCác đường song song với đường chéo phụ:\")\n",
    "    for d in duong_phu:\n",
    "        print(d)\n",
    "\n",
    "n = int(input(\"Nhập cấp ma trận n: \"))\n",
    "\n",
    "A = []\n",
    "print(\"Nhập ma trận:\")\n",
    "for i in range(n):\n",
    "    row = list(map(int, input().split()))\n",
    "    A.append(row)\n",
    "in_cac_duong_song_song(A)"
   ]
  },
  {
   "cell_type": "code",
   "execution_count": null,
   "id": "e59be470-9ab8-4063-bfe8-0695826a8aae",
   "metadata": {},
   "outputs": [],
   "source": []
  }
 ],
 "metadata": {
  "kernelspec": {
   "display_name": "Python 3 (ipykernel)",
   "language": "python",
   "name": "python3"
  },
  "language_info": {
   "codemirror_mode": {
    "name": "ipython",
    "version": 3
   },
   "file_extension": ".py",
   "mimetype": "text/x-python",
   "name": "python",
   "nbconvert_exporter": "python",
   "pygments_lexer": "ipython3",
   "version": "3.12.1"
  }
 },
 "nbformat": 4,
 "nbformat_minor": 5
}
