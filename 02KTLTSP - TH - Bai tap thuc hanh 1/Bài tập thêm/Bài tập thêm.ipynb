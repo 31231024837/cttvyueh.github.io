{
 "cells": [
  {
   "cell_type": "code",
   "execution_count": 5,
   "id": "55edea5e-ab87-41b0-967a-235c909c670e",
   "metadata": {},
   "outputs": [],
   "source": [
    "import math"
   ]
  },
  {
   "cell_type": "markdown",
   "id": "ddae823e-27c1-4680-a633-9e0f917b9b6e",
   "metadata": {},
   "source": [
    "# MaxMin5."
   ]
  },
  {
   "cell_type": "raw",
   "id": "a47f26d7-ee7d-4423-a37b-f01fac05ff8e",
   "metadata": {},
   "source": [
    "Bài 1. Tìm giá trị lớn nhất, nhỏ nhất của 5 số \n",
    "Nhập vào giá trị a, b, c, d, e. Hãy tìm giá trị lớn nhất và nhỏ nhất của 5 số a, b, c, d, e. "
   ]
  },
  {
   "cell_type": "code",
   "execution_count": 6,
   "id": "68f34f9a-f919-4c85-a9a3-c40ae791bac4",
   "metadata": {},
   "outputs": [
    {
     "name": "stdin",
     "output_type": "stream",
     "text": [
      "Nhập a:  1\n",
      "Nhập b:  5\n",
      "Nhập c:  6\n",
      "Nhập d:  2\n",
      "Nhập e:  8\n"
     ]
    },
    {
     "name": "stdout",
     "output_type": "stream",
     "text": [
      "Giá trị nhỏ nhất là 1\n",
      "Giá trị lớn nhất là 8\n"
     ]
    }
   ],
   "source": [
    "# Nhập 5 số nguyên\n",
    "a = int(input(\"Nhập a: \"))\n",
    "b = int(input(\"Nhập b: \"))\n",
    "c = int(input(\"Nhập c: \"))\n",
    "d = int(input(\"Nhập d: \"))\n",
    "e = int(input(\"Nhập e: \"))\n",
    "\n",
    "# Tính giá trị lớn nhất và nhỏ nhất\n",
    "vmax = max(a, b, c, d, e)\n",
    "vmin = min(a, b, c, d, e)\n",
    "\n",
    "# In kết quả\n",
    "print(\"Giá trị nhỏ nhất là\", vmin)\n",
    "print(\"Giá trị lớn nhất là\", vmax)"
   ]
  },
  {
   "cell_type": "markdown",
   "id": "0f6f8122-d719-48b9-aa82-6b6793c5f243",
   "metadata": {},
   "source": [
    "# SolvQuadEq."
   ]
  },
  {
   "cell_type": "raw",
   "id": "1e1e68b7-8c38-40d7-ab64-672158c49851",
   "metadata": {},
   "source": [
    "Bài 2. Giải phương trình bậc 2 \n",
    "Nhập 3 số thực a, b, c. Hãy tìm nghiệm của phương trình bậc 2: 𝑎𝑥^2+𝑏𝑥+𝑐=0"
   ]
  },
  {
   "cell_type": "code",
   "execution_count": 7,
   "id": "dbbddd97-913a-4871-9dd6-5bf1f18d7345",
   "metadata": {},
   "outputs": [
    {
     "name": "stdin",
     "output_type": "stream",
     "text": [
      "Nhập a:  0\n",
      "Nhập b:  0\n",
      "Nhập c:  0\n"
     ]
    },
    {
     "name": "stdout",
     "output_type": "stream",
     "text": [
      "Unlimited solutions\n"
     ]
    }
   ],
   "source": [
    "# Nhập hệ số a, b, c\n",
    "a = float(input(\"Nhập a: \"))\n",
    "b = float(input(\"Nhập b: \"))\n",
    "c = float(input(\"Nhập c: \"))\n",
    "\n",
    "# Trường hợp a = 0 (phương trình bậc nhất hoặc vô số nghiệm)\n",
    "if a == 0:\n",
    "    if b == 0:\n",
    "        if c == 0:\n",
    "            print(\"Unlimited solutions\")\n",
    "        else:\n",
    "            print(\"No solution\")\n",
    "    else:\n",
    "        x = -c / b\n",
    "        print(\"x=%.2f\" % x)\n",
    "else:\n",
    "    # Tính delta\n",
    "    delta = b**2 - 4*a*c\n",
    "    if delta < 0:\n",
    "        print(\"No solution\")\n",
    "    elif delta == 0:\n",
    "        x = -b / (2*a)\n",
    "        print(\"x1=%.2f\" % x)\n",
    "    else:\n",
    "        x1 = (-b - math.sqrt(delta)) / (2*a)\n",
    "        x2 = (-b + math.sqrt(delta)) / (2*a)\n",
    "        print(\"x1=%.2f, x2=%.2f\" % (x1, x2))"
   ]
  },
  {
   "cell_type": "markdown",
   "id": "f5dd5a91-faaa-429d-826b-3097f2e4c026",
   "metadata": {},
   "source": [
    "# TotalDayMonth."
   ]
  },
  {
   "cell_type": "raw",
   "id": "e4bf4da1-268a-4b79-8092-63ce1392fbf5",
   "metadata": {},
   "source": [
    "Bài 3. Tím số ngày của tháng (dùng rẽ nhánh) \n",
    "Nhập vào tháng, năm. Hãy cho biết tháng trong năm vừa nhập có bao nhiêu ngày."
   ]
  },
  {
   "cell_type": "code",
   "execution_count": 8,
   "id": "b8b8b74e-ca01-4772-893d-82cf18b09028",
   "metadata": {},
   "outputs": [
    {
     "name": "stdin",
     "output_type": "stream",
     "text": [
      "Nhập tháng:  1\n",
      "Nhập năm:  2015\n"
     ]
    },
    {
     "name": "stdout",
     "output_type": "stream",
     "text": [
      "Tháng 1 năm 2015 có 31 ngày.\n"
     ]
    }
   ],
   "source": [
    "# Nhập tháng và năm\n",
    "month = int(input(\"Nhập tháng: \"))\n",
    "year = int(input(\"Nhập năm: \"))\n",
    "\n",
    "# Kiểm tra tính hợp lệ\n",
    "if month < 1 or month > 12:\n",
    "    print(\"Tháng không hợp lệ!\")\n",
    "else:\n",
    "    # Xác định số ngày\n",
    "    if month in (1, 3, 5, 7, 8, 10, 12):\n",
    "        days = 31\n",
    "    elif month in (4, 6, 9, 11):\n",
    "        days = 30\n",
    "    elif month == 2:\n",
    "        # Kiểm tra năm nhuận\n",
    "        if (year % 400 == 0) or (year % 4 == 0 and year % 100 != 0):\n",
    "            days = 29\n",
    "        else:\n",
    "            days = 28\n",
    "    # Xuất kết quả\n",
    "    print(\"Tháng %d năm %d có %d ngày.\" % (month, year, days))"
   ]
  },
  {
   "cell_type": "markdown",
   "id": "b288155f-361a-458e-a67c-29abc31b97e4",
   "metadata": {},
   "source": [
    "# MaxDigit."
   ]
  },
  {
   "cell_type": "raw",
   "id": "44008f81-0f38-4897-b4ba-38c074c3a3f3",
   "metadata": {},
   "source": [
    "Bài 4. Chữ số lớn nhất\n",
    "Cho số tự nhiên n có 4 chữ số. Hãy tìm chữ số lớn nhất của n"
   ]
  },
  {
   "cell_type": "code",
   "execution_count": 9,
   "id": "f4f114d8-3de9-43ab-b7e9-90bda8b4d935",
   "metadata": {},
   "outputs": [
    {
     "name": "stdin",
     "output_type": "stream",
     "text": [
      "Nhập số tự nhiên có 4 chữ số:  2387\n"
     ]
    },
    {
     "name": "stdout",
     "output_type": "stream",
     "text": [
      "Chữ số lớn nhất của 2387 là 8\n"
     ]
    }
   ],
   "source": [
    "# Nhập số tự nhiên có 4 chữ số\n",
    "n = int(input(\"Nhập số tự nhiên có 4 chữ số: \"))\n",
    "\n",
    "# Kiểm tra tính hợp lệ\n",
    "if n < 1000 or n > 9999:\n",
    "    print(\"Số không hợp lệ! Vui lòng nhập số có 4 chữ số.\")\n",
    "else:\n",
    "    # Cách 1: Dùng chia lấy dư\n",
    "    a = n // 1000          # chữ số hàng nghìn\n",
    "    b = (n // 100) % 10    # chữ số hàng trăm\n",
    "    c = (n // 10) % 10     # chữ số hàng chục\n",
    "    d = n % 10             # chữ số hàng đơn vị\n",
    "\n",
    "    vmax = max(a, b, c, d)\n",
    "\n",
    "    # In kết quả\n",
    "    print(f\"Chữ số lớn nhất của {n} là {vmax}\")"
   ]
  },
  {
   "cell_type": "markdown",
   "id": "2d0741b9-e971-45ac-a404-cfe28e4ef8e1",
   "metadata": {},
   "source": [
    "# GPA."
   ]
  },
  {
   "cell_type": "raw",
   "id": "e3ba4120-cdbb-461a-a709-df2d530f18c4",
   "metadata": {},
   "source": [
    "Bài 5. Điểm trung bình\n",
    "Viết chương trình nhập vào 3 điểm: Toán, Lý, Hóa. Tính điểm trung bình và phân loại học sinh như sau:\n",
    "DTB = (Toán * 2 + Lý * 3 + Hóa) / 6. Tiêu chuẩn xếp loại: Nếu 8 ≤ DTB ≤ 10 thì xếp loại “Giỏi”, Nếu\n",
    "6.5 ≤ DTB < 8 thì xếp loại “Khá”, Nếu 5≤ DTB < 6.5 thì xếp loại “Trung bình”, Nếu DTB < 5 thì xếp\n",
    "loại “Yếu”. (Good, Pretty, Average, Weak)."
   ]
  },
  {
   "cell_type": "code",
   "execution_count": 12,
   "id": "23ac88a0-c65c-4621-bc2c-5e53682ae961",
   "metadata": {},
   "outputs": [
    {
     "name": "stdin",
     "output_type": "stream",
     "text": [
      "Nhập điểm Toán:  7\n",
      "Nhập điểm Lý:  6\n",
      "Nhập điểm Hóa:  8\n"
     ]
    },
    {
     "name": "stdout",
     "output_type": "stream",
     "text": [
      "Điểm trung bình = 6.67, Xếp loại Khá.\n"
     ]
    }
   ],
   "source": [
    "# Nhập điểm các môn\n",
    "math = float(input(\"Nhập điểm Toán: \"))\n",
    "physic = float(input(\"Nhập điểm Lý: \"))\n",
    "chemistry = float(input(\"Nhập điểm Hóa: \"))\n",
    "\n",
    "# Tính điểm trung bình\n",
    "dtb = (math * 2 + physic * 3 + chemistry) / 6\n",
    "\n",
    "# Xếp loại theo DTB\n",
    "if 8 <= dtb <= 10:\n",
    "    rating = \"Giỏi\"\n",
    "elif 6.5 <= dtb < 8:\n",
    "    rating = \"Khá\"\n",
    "elif 5 <= dtb < 6.5:\n",
    "    rating = \"Trung bình\"\n",
    "else:\n",
    "    rating = \"Yếu\"\n",
    "\n",
    "# In kết quả\n",
    "print(f\"Điểm trung bình = {dtb:.2f}, Xếp loại {rating}.\")\n"
   ]
  },
  {
   "cell_type": "markdown",
   "id": "57b770e6-cd82-4df6-b2a9-c3332eeee084",
   "metadata": {},
   "source": [
    "# NextDay."
   ]
  },
  {
   "cell_type": "code",
   "execution_count": null,
   "id": "7035cfc2-6b9e-4284-92de-12c647941027",
   "metadata": {},
   "outputs": [],
   "source": [
    "Nhập vào ngày, tháng, năm. Hỏi ngày sau đó là ngày nào?"
   ]
  },
  {
   "cell_type": "code",
   "execution_count": 13,
   "id": "a9fbf55b-de02-48fd-91d1-da0c9d1cb6f3",
   "metadata": {},
   "outputs": [
    {
     "name": "stdin",
     "output_type": "stream",
     "text": [
      "Nhập ngày:  31\n",
      "Nhập tháng:  1\n",
      "Nhập năm:  2015\n"
     ]
    },
    {
     "name": "stdout",
     "output_type": "stream",
     "text": [
      "Ngày kế tiếp là: 01/02/2015\n"
     ]
    }
   ],
   "source": [
    "# Nhập ngày, tháng, năm\n",
    "day = int(input(\"Nhập ngày: \"))\n",
    "month = int(input(\"Nhập tháng: \"))\n",
    "year = int(input(\"Nhập năm: \"))\n",
    "\n",
    "# Xác định số ngày trong tháng\n",
    "def days_in_month(month, year):\n",
    "    if month in (1, 3, 5, 7, 8, 10, 12):\n",
    "        return 31\n",
    "    elif month in (4, 6, 9, 11):\n",
    "        return 30\n",
    "    elif month == 2:\n",
    "        # năm nhuận\n",
    "        if (year % 400 == 0) or (year % 4 == 0 and year % 100 != 0):\n",
    "            return 29\n",
    "        else:\n",
    "            return 28\n",
    "\n",
    "# Tính ngày kế tiếp\n",
    "day += 1\n",
    "if day > days_in_month(month, year):\n",
    "    day = 1\n",
    "    month += 1\n",
    "    if month > 12:\n",
    "        month = 1\n",
    "        year += 1\n",
    "\n",
    "# In kết quả\n",
    "print(\"Ngày kế tiếp là: %02d/%02d/%04d\" % (day, month, year))\n"
   ]
  },
  {
   "cell_type": "markdown",
   "id": "e71ca15f-fae3-4162-91d0-ed21fc44716a",
   "metadata": {},
   "source": [
    "# NumberInfo."
   ]
  },
  {
   "cell_type": "raw",
   "id": "e064d9a2-7e9f-416c-8e2d-ce2eef66a5ea",
   "metadata": {},
   "source": [
    "Cho số tự nhiên n nhỏ hơn 1000. Hỏi (a) số tự nhiên n có bao nhiêu chữ số? (b) Tính tổng các chữ số\n",
    "của n? (c) Tìm chữ số cuối của n? (d) Tìm chữ số đầu của n?"
   ]
  },
  {
   "cell_type": "code",
   "execution_count": 14,
   "id": "5d1dbb95-d8b1-4abc-b7ae-3edb9869574f",
   "metadata": {},
   "outputs": [
    {
     "name": "stdin",
     "output_type": "stream",
     "text": [
      "Nhập số tự nhiên n (< 1000):  156\n"
     ]
    },
    {
     "name": "stdout",
     "output_type": "stream",
     "text": [
      "156 has 3 digits.\n",
      "1 + 5 + 6 = 12\n",
      "Last digit is 6.\n",
      "First digit is 1.\n"
     ]
    }
   ],
   "source": [
    "# Nhập số tự nhiên n (< 1000)\n",
    "n = int(input(\"Nhập số tự nhiên n (< 1000): \"))\n",
    "\n",
    "if n < 0 or n >= 1000:\n",
    "    print(\"Số không hợp lệ!\")\n",
    "else:\n",
    "    # a) Đếm số chữ số\n",
    "    num_digits = len(str(n))\n",
    "\n",
    "    # b) Tính tổng các chữ số\n",
    "    sum_digits = sum(int(d) for d in str(n))\n",
    "\n",
    "    # c) Chữ số cuối\n",
    "    last_digit = n % 10\n",
    "\n",
    "    # d) Chữ số đầu\n",
    "    first_digit = int(str(n)[0])\n",
    "\n",
    "    # In kết quả\n",
    "    print(f\"{n} has {num_digits} digits.\")\n",
    "    print(\" + \".join(str(d) for d in str(n)), \"=\", sum_digits)\n",
    "    print(f\"Last digit is {last_digit}.\")\n",
    "    print(f\"First digit is {first_digit}.\")\n"
   ]
  }
 ],
 "metadata": {
  "kernelspec": {
   "display_name": "Python 3 (ipykernel)",
   "language": "python",
   "name": "python3"
  },
  "language_info": {
   "codemirror_mode": {
    "name": "ipython",
    "version": 3
   },
   "file_extension": ".py",
   "mimetype": "text/x-python",
   "name": "python",
   "nbconvert_exporter": "python",
   "pygments_lexer": "ipython3",
   "version": "3.12.1"
  }
 },
 "nbformat": 4,
 "nbformat_minor": 5
}
