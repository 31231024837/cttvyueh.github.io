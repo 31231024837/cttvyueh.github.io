{
 "cells": [
  {
   "cell_type": "markdown",
   "id": "3a9b55a2-7536-4805-866a-8cb6c9d357e9",
   "metadata": {},
   "source": [
    "# Bài 5: Cột có nhiều nguyên tố nhất"
   ]
  },
  {
   "cell_type": "raw",
   "id": "669cd1eb-361a-49ca-9a63-96056c882ddd",
   "metadata": {},
   "source": [
    "Cho ma trận A chứa các số nguyên có n dòng và m cột (1 ≤ n, m ≤ 100). Hãy liệt\n",
    "kê các cột có chứa nhiều số nguyên tố nhất."
   ]
  },
  {
   "cell_type": "code",
   "execution_count": 1,
   "id": "0111c5f3-5489-457c-836b-ed65b517060a",
   "metadata": {},
   "outputs": [
    {
     "name": "stdin",
     "output_type": "stream",
     "text": [
      "Nhập số dòng và số cột (n m):  5 4 \n"
     ]
    },
    {
     "name": "stdout",
     "output_type": "stream",
     "text": [
      "Nhập các phần tử của ma trận A:\n"
     ]
    },
    {
     "name": "stdin",
     "output_type": "stream",
     "text": [
      " 19 4 6 13 \n",
      " 8 6 3 2 \n",
      " 7 5 7 8 \n",
      " 11 2 7 6 \n",
      " 3 9 2 15 \n"
     ]
    },
    {
     "name": "stdout",
     "output_type": "stream",
     "text": [
      "Cac cot nhieu nguyen to nhat: 0 2\n"
     ]
    }
   ],
   "source": [
    "# Hàm kiểm tra số nguyên tố\n",
    "def is_prime(n):\n",
    "    if n < 2:\n",
    "        return False\n",
    "    for i in range(2, int(n**0.5) + 1):\n",
    "        if n % i == 0:\n",
    "            return False\n",
    "    return True\n",
    "\n",
    "n, m = map(int, input(\"Nhập số dòng và số cột (n m): \").split())\n",
    "\n",
    "A = []\n",
    "print(\"Nhập các phần tử của ma trận A:\")\n",
    "for i in range(n):\n",
    "    row = list(map(int, input().split()))\n",
    "    A.append(row)\n",
    "\n",
    "prime_counts = [0] * m # Đếm số nguyên tố theo từng cột\n",
    "\n",
    "for j in range(m):\n",
    "    for i in range(n):\n",
    "        if is_prime(A[i][j]):\n",
    "            prime_counts[j] += 1\n",
    "\n",
    "max_primes = max(prime_counts)\n",
    "\n",
    "\n",
    "columns = [str(j) for j in range(m) if prime_counts[j] == max_primes] #Liệt kê các cột có nhiều số nguyên tố nhất\n",
    "\n",
    "print(\"Cac cot nhieu nguyen to nhat:\", \" \".join(columns))"
   ]
  },
  {
   "cell_type": "code",
   "execution_count": null,
   "id": "3e4e4f32-4e9f-45c3-8175-45785a8fecad",
   "metadata": {},
   "outputs": [],
   "source": []
  }
 ],
 "metadata": {
  "kernelspec": {
   "display_name": "Python 3 (ipykernel)",
   "language": "python",
   "name": "python3"
  },
  "language_info": {
   "codemirror_mode": {
    "name": "ipython",
    "version": 3
   },
   "file_extension": ".py",
   "mimetype": "text/x-python",
   "name": "python",
   "nbconvert_exporter": "python",
   "pygments_lexer": "ipython3",
   "version": "3.12.1"
  }
 },
 "nbformat": 4,
 "nbformat_minor": 5
}
