{
 "cells": [
  {
   "cell_type": "markdown",
   "id": "5f2f4493",
   "metadata": {},
   "source": [
    "# ex1_scientific1"
   ]
  },
  {
   "cell_type": "markdown",
   "id": "8f7f101c",
   "metadata": {},
   "source": [
    "## Nội dung bài\n",
    "Hiển thị ngẫu nhiên $N=50$ hình tròn:\n",
    "+ Tâm $c_i = (x_i,y_i)$ ngẫu nhiên với $x_i, y_i \\in \\left[0, 1 \\right]$\n",
    "+ Màu sắc $color_i$ ngẫu nhiên với $color_i \\in \\left[0, 1 \\right]$\n",
    "+ Diện tích $area_i = \\pi * r_i^2$ với sinh ngẫu nhiên $r_i \\in \\left[0, 1 \\right]$\n",
    "\n",
    "## Bài làm"
   ]
  },
  {
   "cell_type": "markdown",
   "id": "4143e079",
   "metadata": {},
   "source": [
    "### Import thư viện"
   ]
  },
  {
   "cell_type": "code",
   "execution_count": null,
   "id": "46cf3b99",
   "metadata": {
    "vscode": {
     "languageId": "plaintext"
    }
   },
   "outputs": [],
   "source": [
    "import numpy as np\n",
    "import matplotlib.pyplot as plt\n",
    "from IPython import display # hiển thị rich output"
   ]
  },
  {
   "cell_type": "markdown",
   "id": "7d3ea82c",
   "metadata": {},
   "source": [
    "### Sinh ngẫu nhiên hình tròn"
   ]
  },
  {
   "cell_type": "code",
   "execution_count": null,
   "id": "a1b6aa9d",
   "metadata": {
    "vscode": {
     "languageId": "plaintext"
    }
   },
   "outputs": [],
   "source": [
    "%time\n",
    "# generate randomly the center (x,y ) of circle, color, area\n",
    "N = 50\n",
    "x = np.random.rand(N)\n",
    "y = np.random.rand(N)\n",
    "colors = np.random.rand(N)\n",
    "area = np.pi * (15 * np.random.rand(N)) ** 2  # 0 to 15 point radii"
   ]
  },
  {
   "cell_type": "code",
   "execution_count": null,
   "id": "bf9d70d4",
   "metadata": {
    "vscode": {
     "languageId": "plaintext"
    }
   },
   "outputs": [],
   "source": [
    "# Mã kiểm tra dữ liệu\n",
    "print(f'+ x: len={len(x):d}, [{min(x):.2f}, {max(x):.2f}]: 10 samples [{x[0:10]}]')\n",
    "print(f'+ y: len={len(y):d}, [{min(y):.2f}, {max(y):.2f}]: 10 samples [{y[0:10]}]')\n",
    "print(f'+ colors: len={len(colors):d}, [{min(colors):.2f}, {max(colors):.2f}]: 10 samples [{colors[0:10]}]')\n",
    "print(f'+ area: len={len(area):d}, [{min(area):.2f}, {max(area):.2f}]: 10 samples [{area[0:10]}]')"
   ]
  },
  {
   "cell_type": "markdown",
   "id": "7c6c77e4",
   "metadata": {},
   "source": [
    "### Hiển thị đồ thị"
   ]
  },
  {
   "cell_type": "code",
   "execution_count": null,
   "id": "066c4174",
   "metadata": {
    "vscode": {
     "languageId": "plaintext"
    }
   },
   "outputs": [],
   "source": [
    "%matplotlib inline\n",
    "plt.scatter(x, y, s=area, c=colors, alpha=0.5)\n",
    "plt.show()"
   ]
  },
  {
   "cell_type": "markdown",
   "id": "b383aebc",
   "metadata": {
    "vscode": {
     "languageId": "plaintext"
    }
   },
   "source": [
    "# Kết thúc"
   ]
  }
 ],
 "metadata": {
  "language_info": {
   "name": "python"
  }
 },
 "nbformat": 4,
 "nbformat_minor": 5
}
