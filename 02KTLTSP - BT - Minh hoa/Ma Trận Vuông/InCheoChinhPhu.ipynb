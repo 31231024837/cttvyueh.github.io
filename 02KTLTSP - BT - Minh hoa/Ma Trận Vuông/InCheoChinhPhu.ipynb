{
 "cells": [
  {
   "cell_type": "markdown",
   "id": "0db86cd3-b014-4345-84e5-fb2b5b37cb3d",
   "metadata": {},
   "source": [
    "# Bài 1: In chéo chính, phụ \n",
    "Cho ma trận vuông A cấp n chứa các số nguyên (1 ≤ n ≤ 100). Hãy viết hàm liệt kê\n",
    "các phần tử nằm trên đường chéo chính và chéo phụ của ma trận vuông A."
   ]
  },
  {
   "cell_type": "code",
   "execution_count": 2,
   "id": "ce3ebeb8-3afd-4da4-a2cf-fa93f7d05294",
   "metadata": {},
   "outputs": [
    {
     "name": "stdin",
     "output_type": "stream",
     "text": [
      "Nhap cap ma tran n:  5\n"
     ]
    },
    {
     "name": "stdout",
     "output_type": "stream",
     "text": [
      "Nhap ma tran (moi dong cach nhau boi dau cach):\n"
     ]
    },
    {
     "name": "stdin",
     "output_type": "stream",
     "text": [
      " 5 5 5 0 0 \n",
      " 0 5 0 1 1 \n",
      " 0 5 0 0 0 \n",
      " 0 0 0 2 3\n",
      "  1 1 1 4 7\n"
     ]
    },
    {
     "name": "stdout",
     "output_type": "stream",
     "text": [
      "Cac phan tu tren cheo chinh: 5 5 0 2 7\n",
      "Cac phan tu tren cheo phu: 0 1 0 0 1\n"
     ]
    }
   ],
   "source": [
    "# Hàm in các phần tử trên đường chéo chính và chéo phụ\n",
    "def in_cheo_chinh_phu(A):\n",
    "    n = len(A)\n",
    "    cheo_chinh = []\n",
    "    cheo_phu = []\n",
    "    \n",
    "    for i in range(n):\n",
    "        cheo_chinh.append(A[i][i])          # Đường chéo chính\n",
    "        cheo_phu.append(A[i][n-1-i])        # Đường chéo phụ\n",
    "    \n",
    "    print(\"Cac phan tu tren cheo chinh:\", *cheo_chinh)\n",
    "    print(\"Cac phan tu tren cheo phu:\", *cheo_phu)\n",
    "\n",
    "n = int(input(\"Nhap cap ma tran n: \"))\n",
    "\n",
    "A = []\n",
    "print(\"Nhap ma tran (moi dong cach nhau boi dau cach):\")\n",
    "for i in range(n):\n",
    "    row = list(map(int, input().split()))\n",
    "    A.append(row)\n",
    "\n",
    "in_cheo_chinh_phu(A)"
   ]
  }
 ],
 "metadata": {
  "kernelspec": {
   "display_name": "Python 3 (ipykernel)",
   "language": "python",
   "name": "python3"
  },
  "language_info": {
   "codemirror_mode": {
    "name": "ipython",
    "version": 3
   },
   "file_extension": ".py",
   "mimetype": "text/x-python",
   "name": "python",
   "nbconvert_exporter": "python",
   "pygments_lexer": "ipython3",
   "version": "3.12.1"
  }
 },
 "nbformat": 4,
 "nbformat_minor": 5
}
