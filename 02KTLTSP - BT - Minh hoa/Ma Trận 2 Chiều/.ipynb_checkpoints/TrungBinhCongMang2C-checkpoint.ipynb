{
 "cells": [
  {
   "cell_type": "markdown",
   "id": "447ba23b-7e75-4497-a4a3-9281fd174ab6",
   "metadata": {},
   "source": [
    "# Bài 2: Tính trung bình cộng mảng 2 chiều"
   ]
  },
  {
   "cell_type": "raw",
   "id": "85bef54c-bddd-40a4-b724-97049c24ea15",
   "metadata": {},
   "source": [
    "Cho ma trận A chứa các số thực có n dòng và m cột (1 ≤ n, m ≤ 100). Hãy viết\n",
    "chương trình tính trung bình cộng các số dương có trong ma trận A."
   ]
  },
  {
   "cell_type": "code",
   "execution_count": 2,
   "id": "98197423-dcc1-4f97-9265-3f2bb29bccd1",
   "metadata": {},
   "outputs": [
    {
     "name": "stdin",
     "output_type": "stream",
     "text": [
      "Nhập số dòng và số cột (n m):  3 4\n"
     ]
    },
    {
     "name": "stdout",
     "output_type": "stream",
     "text": [
      "Nhập các phần tử của ma trận A:\n"
     ]
    },
    {
     "name": "stdin",
     "output_type": "stream",
     "text": [
      " 1.5 -3.2 4.8 9.1\n",
      " -1.8 3.9 2.7 4.5 \n",
      " 3.3 9.6 -2.8 -4.9\n"
     ]
    },
    {
     "name": "stdout",
     "output_type": "stream",
     "text": [
      "Trung bình cộng các số dương: 4.925\n"
     ]
    }
   ],
   "source": [
    "n, m = map(int, input(\"Nhập số dòng và số cột (n m): \").split())\n",
    "\n",
    "A = []\n",
    "print(\"Nhập các phần tử của ma trận A:\")\n",
    "for i in range(n):\n",
    "    row = list(map(float, input().split()))\n",
    "    A.append(row)\n",
    "\n",
    "#Tính trung bình cộng các số dương\n",
    "positive_numbers = [x for row in A for x in row if x > 0]\n",
    "\n",
    "if positive_numbers:\n",
    "    avg = sum(positive_numbers) / len(positive_numbers)\n",
    "    print(f\"Trung bình cộng các số dương: {avg:.3f}\")\n",
    "else:\n",
    "    print(\"Ma trận không có số dương.\")"
   ]
  }
 ],
 "metadata": {
  "kernelspec": {
   "display_name": "Python 3 (ipykernel)",
   "language": "python",
   "name": "python3"
  },
  "language_info": {
   "codemirror_mode": {
    "name": "ipython",
    "version": 3
   },
   "file_extension": ".py",
   "mimetype": "text/x-python",
   "name": "python",
   "nbconvert_exporter": "python",
   "pygments_lexer": "ipython3",
   "version": "3.12.1"
  }
 },
 "nbformat": 4,
 "nbformat_minor": 5
}
