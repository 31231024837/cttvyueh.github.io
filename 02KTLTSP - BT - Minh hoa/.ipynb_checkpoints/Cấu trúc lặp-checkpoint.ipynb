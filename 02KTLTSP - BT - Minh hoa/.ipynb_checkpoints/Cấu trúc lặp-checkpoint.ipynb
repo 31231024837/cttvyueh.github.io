{
 "cells": [
  {
   "cell_type": "raw",
   "id": "65ee2b92-0937-4091-ba7a-01a9074217f2",
   "metadata": {},
   "source": [
    "FILE PDF: 02KTLTSP - BT - Minh hoa"
   ]
  },
  {
   "cell_type": "markdown",
   "id": "61d18b45-0868-4743-87b9-f86ec98abf2f",
   "metadata": {},
   "source": [
    "# CẤU TRÚC LẶP"
   ]
  },
  {
   "cell_type": "markdown",
   "id": "cd3f6f87-8706-4dd6-85dd-e14117260d0f",
   "metadata": {},
   "source": [
    "### 1. Nhập một số nguyên dương n (n > 0). Hãy cho biết:"
   ]
  },
  {
   "cell_type": "raw",
   "id": "cf1c8935-7442-40ec-a481-a46169c4fc07",
   "metadata": {},
   "source": [
    "• Có phải là số đối xứng? Ví dụ: 121, 12321, …\n",
    "• Có phải là số chính phương? Ví dụ: 4, 9, 16, …\n",
    "• Có phải là số nguyên tố? Ví dụ: 2, 3, 5, 7, …\n",
    "• Chữ số lớn nhất và nhỏ nhất?\n",
    "• Các chữ số có tăng dần hay giảm dần không?"
   ]
  },
  {
   "cell_type": "code",
   "execution_count": 5,
   "id": "03e88403-49d5-4ef8-b6e5-bf0aa78a1660",
   "metadata": {},
   "outputs": [
    {
     "name": "stdin",
     "output_type": "stream",
     "text": [
      "Nhập số nguyên dương n (>0):  343\n"
     ]
    },
    {
     "name": "stdout",
     "output_type": "stream",
     "text": [
      "343 là số đối xứng\n",
      "343 không phải là số chính phương\n",
      "343 không phải là số nguyên tố\n",
      "Chữ số lớn nhất: 4, nhỏ nhất: 3\n",
      "Các chữ số không tăng cũng không giảm dần\n"
     ]
    }
   ],
   "source": [
    "n = int(input(\"Nhập số nguyên dương n (>0): \"))\n",
    "#số đối xứng\n",
    "temp = n\n",
    "dao = 0\n",
    "while temp > 0:\n",
    "    dao = dao * 10 + temp % 10\n",
    "    temp //= 10\n",
    "\n",
    "if n == dao:\n",
    "    print(f\"{n} là số đối xứng\")\n",
    "else:\n",
    "    print(f\"{n} không phải là số đối xứng\")\n",
    "#số chính phương\n",
    "import math\n",
    "if int(math.sqrt(n)) ** 2 == n:\n",
    "    print(f\"{n} là số chính phương\")\n",
    "else:\n",
    "    print(f\"{n} không phải là số chính phương\")\n",
    "\n",
    "#số nguyên tố\n",
    "la_nguyen_to = True\n",
    "if n < 2:\n",
    "    la_nguyen_to = False\n",
    "else:\n",
    "    for i in range(2, int(math.sqrt(n)) + 1):\n",
    "        if n % i == 0:\n",
    "            la_nguyen_to = False\n",
    "            break\n",
    "\n",
    "if la_nguyen_to:\n",
    "    print(f\"{n} là số nguyên tố\")\n",
    "else:\n",
    "    print(f\"{n} không phải là số nguyên tố\")\n",
    "\n",
    "#chữ số lớn nhất và nhỏ nhất\n",
    "max_digit = 0\n",
    "min_digit = 9\n",
    "temp = n\n",
    "while temp > 0:\n",
    "    digit = temp % 10\n",
    "    if digit > max_digit:\n",
    "        max_digit = digit\n",
    "    if digit < min_digit:\n",
    "        min_digit = digit\n",
    "    temp //= 10\n",
    "print(f\"Chữ số lớn nhất: {max_digit}, nhỏ nhất: {min_digit}\")\n",
    "\n",
    "#các chữ số có tăng dần hay giảm dần không\n",
    "tang = True\n",
    "giam = True\n",
    "temp = n\n",
    "prev = temp % 10\n",
    "temp //= 10\n",
    "\n",
    "while temp > 0:\n",
    "    digit = temp % 10\n",
    "    if digit >= prev:\n",
    "        tang = False\n",
    "    if digit <= prev:\n",
    "        giam = False\n",
    "    prev = digit\n",
    "    temp //= 10\n",
    "\n",
    "if tang:\n",
    "    print(\"Các chữ số tăng dần từ trái sang phải\")\n",
    "elif giam:\n",
    "    print(\"Các chữ số giảm dần từ trái sang phải\")\n",
    "else:\n",
    "    print(\"Các chữ số không tăng cũng không giảm dần\")"
   ]
  },
  {
   "cell_type": "markdown",
   "id": "a3794d79-7b55-47c3-9009-b8d7c11c38c2",
   "metadata": {},
   "source": [
    "### 2. Nhập một số nguyên dương n. Tính:"
   ]
  },
  {
   "cell_type": "raw",
   "id": "ae5a615b-fc35-45c6-ad67-cfc53919d408",
   "metadata": {},
   "source": [
    "a. S = 1 + 2 + … + n\n",
    "b. S = 12 + 22 + … + n2\n",
    "c. S = 1 + 1/2 + … + 1/n\n",
    "d. S = 1*2*…*n = n!\n",
    "e. S = 1! + 2! + … + n!"
   ]
  },
  {
   "cell_type": "code",
   "execution_count": 8,
   "id": "3103e361-1e64-49b4-90ef-98ce972f75d9",
   "metadata": {},
   "outputs": [
    {
     "name": "stdin",
     "output_type": "stream",
     "text": [
      "Nhập số nguyên dương n:  5\n"
     ]
    },
    {
     "name": "stdout",
     "output_type": "stream",
     "text": [
      "a. S = 1 + 2 + … + n = 15\n",
      "b. S = 1^2 + 2^2 + … + n^2 = 55\n",
      "c. S = 1 + 1/2 + … + 1/n = 2.2833\n",
      "d. S = 1*2*…*n = 120\n",
      "e. S = 1! + 2! + … + n! = 153\n"
     ]
    }
   ],
   "source": [
    "n = int(input(\"Nhập số nguyên dương n: \"))\n",
    "\n",
    "# a. S = 1 + 2 + … + n\n",
    "S1 = 0\n",
    "for i in range(1, n+1):\n",
    "    S1 += i\n",
    "print(\"a. S = 1 + 2 + … + n =\", S1)\n",
    "\n",
    "# b. S = 1^2 + 2^2 + … + n^2\n",
    "S2 = 0\n",
    "for i in range(1, n+1):\n",
    "    S2 += i**2\n",
    "print(\"b. S = 1^2 + 2^2 + … + n^2 =\", S2)\n",
    "\n",
    "# c. S = 1 + 1/2 + … + 1/n\n",
    "S3 = 0\n",
    "for i in range(1, n+1):\n",
    "    S3 += 1/i\n",
    "print(\"c. S = 1 + 1/2 + … + 1/n =\", round(S3, 4))\n",
    "\n",
    "# d. S = 1*2*…*n = n!\n",
    "S4 = 1\n",
    "for i in range(1, n+1):\n",
    "    S4 *= i\n",
    "print(\"d. S = 1*2*…*n =\", S4)\n",
    "\n",
    "# e. S = 1! + 2! + … + n!\n",
    "S5 = 0\n",
    "giaithua = 1\n",
    "for i in range(1, n+1):\n",
    "    giaithua *= i\n",
    "    S5 += giaithua\n",
    "print(\"e. S = 1! + 2! + … + n! =\", S5)"
   ]
  },
  {
   "cell_type": "markdown",
   "id": "a5fd2db8-81a6-4eea-a4ec-182140b4d9e4",
   "metadata": {},
   "source": [
    "### 3. Nhập 3 số nguyên a, b và n với a, b < n. Tính tổng các số nguyên dương nhỏ hơn n chia hết cho a nhưng không chia hết cho b."
   ]
  },
  {
   "cell_type": "code",
   "execution_count": 11,
   "id": "7ca1018d-7d18-4cf0-a56a-21141a11b9b3",
   "metadata": {},
   "outputs": [
    {
     "name": "stdin",
     "output_type": "stream",
     "text": [
      "Nhập a =  3\n",
      "Nhập b =  4\n",
      "Nhập n =  10\n"
     ]
    },
    {
     "name": "stdout",
     "output_type": "stream",
     "text": [
      "Tổng các số < n chia hết cho a nhưng không chia hết cho b là: 18\n"
     ]
    }
   ],
   "source": [
    "a = int(input(\"Nhập a = \"))\n",
    "b = int(input(\"Nhập b = \"))\n",
    "n = int(input(\"Nhập n = \"))\n",
    "\n",
    "S = 0\n",
    "for i in range(1, n):\n",
    "    if (i % a == 0) and (i % b != 0):\n",
    "        S += i\n",
    "print(\"Tổng các số < n chia hết cho a nhưng không chia hết cho b là:\", S)"
   ]
  },
  {
   "cell_type": "markdown",
   "id": "122f7830-4b32-47d1-a4a6-3b7348755586",
   "metadata": {},
   "source": [
    "### 4. Tính tổng các số nguyên tố nhỏ hơn n (0 < n < 50)"
   ]
  },
  {
   "cell_type": "code",
   "execution_count": 13,
   "id": "cdb6ae43-c848-4031-a407-4a9b258785eb",
   "metadata": {},
   "outputs": [
    {
     "name": "stdin",
     "output_type": "stream",
     "text": [
      "Nhập n (0 < n < 50):  13\n"
     ]
    },
    {
     "name": "stdout",
     "output_type": "stream",
     "text": [
      "Tổng các số nguyên tố nhỏ hơn 13 là: 28\n"
     ]
    }
   ],
   "source": [
    "import math\n",
    "\n",
    "def ktsnt(x):\n",
    "    if x < 2:\n",
    "        return False\n",
    "    for i in range(2, int(math.sqrt(x)) + 1):\n",
    "        if x % i == 0:\n",
    "            return False\n",
    "    return True\n",
    "\n",
    "n = int(input(\"Nhập n (0 < n < 50): \"))\n",
    "S = 0\n",
    "for i in range(2, n):\n",
    "    if ktsnt(i):\n",
    "        S += i\n",
    "print(\"Tổng các số nguyên tố nhỏ hơn\", n, \"là:\", S)"
   ]
  },
  {
   "cell_type": "markdown",
   "id": "f9a759a0-a1a7-4f6a-a13b-bd4789c57a36",
   "metadata": {},
   "source": [
    "### 5. Nhập một số nguyên dương n. Xuất ra số ngược lại.\n",
    "Ví dụ: Nhập 1706 -> Xuất 6071"
   ]
  },
  {
   "cell_type": "code",
   "execution_count": 14,
   "id": "8c083754-f649-4813-b9bd-23ccc204468e",
   "metadata": {},
   "outputs": [
    {
     "name": "stdin",
     "output_type": "stream",
     "text": [
      "Nhập số nguyên dương n:  2361\n"
     ]
    },
    {
     "name": "stdout",
     "output_type": "stream",
     "text": [
      "Số 2361 đảo ngược là: 1632\n"
     ]
    }
   ],
   "source": [
    "n = int(input(\"Nhập số nguyên dương n: \"))\n",
    "\n",
    "dao = 0\n",
    "temp = n\n",
    "while temp > 0:\n",
    "    dao = dao * 10 + temp % 10\n",
    "    temp //= 10\n",
    "print(f\"Số {n} đảo ngược là: {dao}\")"
   ]
  },
  {
   "cell_type": "markdown",
   "id": "49e452a3-6309-4821-8855-011093a85f78",
   "metadata": {},
   "source": [
    "### 6. Tìm và in lên màn hình tất cả các số nguyên trong phạm vi từ 10 đến 99 sao cho tích của 2 chữ số bằng 2 lần tổng của 2 chữ số đó."
   ]
  },
  {
   "cell_type": "code",
   "execution_count": null,
   "id": "097be78d-484e-453c-9732-bf182c670e80",
   "metadata": {},
   "outputs": [],
   "source": [
    "print(\"Các số có tích bằng 2 lần tổng của 2 chữ số là:\")\n",
    "for i in range(10, 99):\n",
    "    chuc = i // 10\n",
    "    donvi = i % 10\n",
    "    if chuc * donvi == 2 * (chuc + donvi):\n",
    "        print(i, end=\" \")\n",
    "print()"
   ]
  },
  {
   "cell_type": "markdown",
   "id": "ab2dd427-04ad-421d-b112-659a2339e734",
   "metadata": {},
   "source": [
    "### 7. Tìm ước số chung lớn nhất của 2 số nguyên dương a và b nhập từ bàn phím."
   ]
  },
  {
   "cell_type": "code",
   "execution_count": 2,
   "id": "230bee2f-60f0-4305-a941-0fe03641b382",
   "metadata": {},
   "outputs": [
    {
     "name": "stdin",
     "output_type": "stream",
     "text": [
      "Nhập a =  5\n",
      "Nhập b =  10\n"
     ]
    },
    {
     "name": "stdout",
     "output_type": "stream",
     "text": [
      "Ước số chung lớn nhất là: 5\n"
     ]
    }
   ],
   "source": [
    "a = int(input(\"Nhập a = \"))\n",
    "b = int(input(\"Nhập b = \"))\n",
    "\n",
    "while b != 0:  # Thuật toán Euclid\n",
    "    a, b = b, a % b\n",
    "print(\"Ước số chung lớn nhất là:\", a)"
   ]
  },
  {
   "cell_type": "markdown",
   "id": "349767e5-9ba1-4ad5-a25b-0cf5a32773cd",
   "metadata": {},
   "source": [
    "### 8. Nhập n. In n số đầu tiên trong dãy Fibonacy."
   ]
  },
  {
   "cell_type": "raw",
   "id": "a8a9a13b-3eff-4d4b-94ce-0bca25a290e1",
   "metadata": {},
   "source": [
    "a0 = a1 = 1\n",
    "an = an – 1 + an – 2"
   ]
  },
  {
   "cell_type": "code",
   "execution_count": 5,
   "id": "08641242-75e2-4393-a204-1ec7021704ff",
   "metadata": {},
   "outputs": [
    {
     "name": "stdin",
     "output_type": "stream",
     "text": [
      "Nhập n =  24\n"
     ]
    },
    {
     "name": "stdout",
     "output_type": "stream",
     "text": [
      "Dãy Fibonacci gồm 24 số đầu tiên:\n",
      "1 1 2 3 5 8 13 21 34 55 89 144 233 377 610 987 1597 2584 4181 6765 10946 17711 28657 46368 \n"
     ]
    }
   ],
   "source": [
    "n = int(input(\"Nhập n = \"))\n",
    "\n",
    "a0, a1 = 1, 1\n",
    "print(\"Dãy Fibonacci gồm\", n, \"số đầu tiên:\")\n",
    "if n >= 1:\n",
    "    print(a0, end=\" \")\n",
    "if n >= 2:\n",
    "    print(a1, end=\" \")\n",
    "for i in range(3, n+1):\n",
    "    a2 = a0 + a1\n",
    "    print(a2, end=\" \")\n",
    "    a0, a1 = a1, a2\n",
    "print()"
   ]
  }
 ],
 "metadata": {
  "kernelspec": {
   "display_name": "Python 3 (ipykernel)",
   "language": "python",
   "name": "python3"
  },
  "language_info": {
   "codemirror_mode": {
    "name": "ipython",
    "version": 3
   },
   "file_extension": ".py",
   "mimetype": "text/x-python",
   "name": "python",
   "nbconvert_exporter": "python",
   "pygments_lexer": "ipython3",
   "version": "3.12.1"
  }
 },
 "nbformat": 4,
 "nbformat_minor": 5
}
