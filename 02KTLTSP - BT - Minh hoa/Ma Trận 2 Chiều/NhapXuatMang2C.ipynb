{
 "cells": [
  {
   "cell_type": "markdown",
   "id": "b4438be5-bdb2-4677-bb3b-0dbfb4135bc6",
   "metadata": {},
   "source": [
    "# Bài 1: Nhập xuất mảng 2 chiều"
   ]
  },
  {
   "cell_type": "raw",
   "id": "4a0a49e2-df0f-4229-8253-f9bc4e62d3e6",
   "metadata": {},
   "source": [
    "Cho ma trận A chứa các số nguyên có n dòng và m cột (1 ≤ n, m ≤ 100). Hãy viết chương trình nhập mảng A và xuất ra màn hình."
   ]
  },
  {
   "cell_type": "code",
   "execution_count": 1,
   "id": "2b168f79-70ba-437e-923d-5f6458a45962",
   "metadata": {},
   "outputs": [
    {
     "name": "stdin",
     "output_type": "stream",
     "text": [
      "Nhập số dòng và số cột (n m):  2 3\n",
      "Nhập 6 phần tử của ma trận A:  1 2 3 4 5 6 \n"
     ]
    },
    {
     "name": "stdout",
     "output_type": "stream",
     "text": [
      "Array A:\n",
      "1 2 3\n",
      "4 5 6\n"
     ]
    }
   ],
   "source": [
    "n, m = map(int, input(\"Nhập số dòng và số cột (n m): \").split())\n",
    "\n",
    "data = list(map(int, input(f\"Nhập {n*m} phần tử của ma trận A: \").split()))\n",
    "\n",
    "A = [data[i*m:(i+1)*m] for i in range(n)]\n",
    "\n",
    "print(\"Ma trận A:\")\n",
    "for row in A:\n",
    "    print(*row)"
   ]
  }
 ],
 "metadata": {
  "kernelspec": {
   "display_name": "Python 3 (ipykernel)",
   "language": "python",
   "name": "python3"
  },
  "language_info": {
   "codemirror_mode": {
    "name": "ipython",
    "version": 3
   },
   "file_extension": ".py",
   "mimetype": "text/x-python",
   "name": "python",
   "nbconvert_exporter": "python",
   "pygments_lexer": "ipython3",
   "version": "3.12.1"
  }
 },
 "nbformat": 4,
 "nbformat_minor": 5
}
