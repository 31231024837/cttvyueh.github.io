{
 "cells": [
  {
   "cell_type": "markdown",
   "id": "60ccaf29-3cdc-4922-8adf-83f7bfdc9eff",
   "metadata": {},
   "source": [
    "FILE PDF: 02KTLTSP - BT - Minh hoa"
   ]
  },
  {
   "cell_type": "markdown",
   "id": "31390637-0cd7-4f9b-aa9a-585024eaef69",
   "metadata": {},
   "source": [
    "# THỰC HÀNH 3"
   ]
  },
  {
   "cell_type": "markdown",
   "id": "c0c1f71a-3b97-4ec1-b3b0-77300ea8dec0",
   "metadata": {},
   "source": [
    "### 1. Sắp xếp List dùng string_compare và integer_compare"
   ]
  },
  {
   "cell_type": "code",
   "execution_count": null,
   "id": "24058dc1-277c-449f-bdc1-0fd0890fdb99",
   "metadata": {},
   "outputs": [],
   "source": []
  },
  {
   "cell_type": "code",
   "execution_count": null,
   "id": "2cb3160d-9ec8-421d-b6d8-27d72ae77c7d",
   "metadata": {},
   "outputs": [],
   "source": []
  }
 ],
 "metadata": {
  "kernelspec": {
   "display_name": "Python 3 (ipykernel)",
   "language": "python",
   "name": "python3"
  },
  "language_info": {
   "codemirror_mode": {
    "name": "ipython",
    "version": 3
   },
   "file_extension": ".py",
   "mimetype": "text/x-python",
   "name": "python",
   "nbconvert_exporter": "python",
   "pygments_lexer": "ipython3",
   "version": "3.12.1"
  }
 },
 "nbformat": 4,
 "nbformat_minor": 5
}
