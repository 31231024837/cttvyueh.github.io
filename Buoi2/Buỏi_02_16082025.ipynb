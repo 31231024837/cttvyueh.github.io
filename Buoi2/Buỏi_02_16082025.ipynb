{
  "nbformat": 4,
  "nbformat_minor": 0,
  "metadata": {
    "colab": {
      "provenance": [],
      "toc_visible": true
    },
    "kernelspec": {
      "name": "python3",
      "display_name": "Python 3"
    },
    "language_info": {
      "name": "python"
    }
  },
  "cells": [
    {
      "cell_type": "markdown",
      "source": [
        "## NGÔN NGỮ PYTHON\n"
      ],
      "metadata": {
        "id": "YJTEVGw9xEu5"
      }
    },
    {
      "cell_type": "code",
      "execution_count": null,
      "metadata": {
        "colab": {
          "base_uri": "https://localhost:8080/"
        },
        "id": "CRY2uSQdk_Fw",
        "outputId": "606a3c79-6e4d-46ee-e64f-4275dcdbe191"
      },
      "outputs": [
        {
          "output_type": "stream",
          "name": "stdout",
          "text": [
            "Hello, World\n"
          ]
        }
      ],
      "source": [
        "print (\"Hello, World\")\n"
      ]
    },
    {
      "cell_type": "code",
      "source": [
        "#Future Value\n",
        "\n",
        "pv = 100\n",
        "r = 0.1\n",
        "n= 7\n",
        "fv = pv * ((1+(r))**n)\n",
        "print (round(fv,2))"
      ],
      "metadata": {
        "colab": {
          "base_uri": "https://localhost:8080/"
        },
        "id": "BVwPN4OCmeax",
        "outputId": "a49f29fe-8954-4a11-9eec-142b1c283854"
      },
      "execution_count": null,
      "outputs": [
        {
          "output_type": "stream",
          "name": "stdout",
          "text": [
            "194.87\n"
          ]
        }
      ]
    },
    {
      "cell_type": "code",
      "source": [
        "amount = 100\n",
        "interest = 10   #10%\n",
        "years = 7\n",
        "future_value = amount * ((1+(interest/100))**years)\n",
        "print (round(future_value,2))\n"
      ],
      "metadata": {
        "colab": {
          "base_uri": "https://localhost:8080/"
        },
        "id": "oEIK5T8wnDSL",
        "outputId": "6023b526-dfa8-44d4-a5b0-fbae30c6a513"
      },
      "execution_count": null,
      "outputs": [
        {
          "output_type": "stream",
          "name": "stdout",
          "text": [
            "194.87\n"
          ]
        }
      ]
    },
    {
      "cell_type": "code",
      "source": [
        "from IPython.display import display\n",
        "#De print dep hon"
      ],
      "metadata": {
        "id": "gwjnr1Aqn6xo"
      },
      "execution_count": null,
      "outputs": []
    },
    {
      "cell_type": "code",
      "source": [
        "print (\"Hello, World\")\n",
        "display (\"Hello, World\")"
      ],
      "metadata": {
        "colab": {
          "base_uri": "https://localhost:8080/",
          "height": 53
        },
        "id": "ZrX2bJeSoD2O",
        "outputId": "5ff2fc0b-6997-4c33-9d21-ab596dc6178a"
      },
      "execution_count": null,
      "outputs": [
        {
          "output_type": "stream",
          "name": "stdout",
          "text": [
            "Hello, World\n"
          ]
        },
        {
          "output_type": "display_data",
          "data": {
            "text/plain": [
              "'Hello, World'"
            ],
            "application/vnd.google.colaboratory.intrinsic+json": {
              "type": "string"
            }
          },
          "metadata": {}
        }
      ]
    },
    {
      "cell_type": "code",
      "source": [
        "score = 80\n",
        "if score >=60 :\n",
        "  print(\"Pass\")"
      ],
      "metadata": {
        "colab": {
          "base_uri": "https://localhost:8080/"
        },
        "id": "Q30J-6DcorNm",
        "outputId": "0d0674d8-f62d-49e5-f8aa-e75d64cb3353"
      },
      "execution_count": null,
      "outputs": [
        {
          "output_type": "stream",
          "name": "stdout",
          "text": [
            "Pass\n"
          ]
        }
      ]
    },
    {
      "cell_type": "code",
      "source": [
        "# Python Variables\n",
        "x = 2\n",
        "price = 2.5\n",
        "\n",
        "word = 'Hello'\n",
        "word = \"Hello\"\n",
        "word = '''Hello'''\n",
        "\n",
        "print (x, price, word)\n",
        "print (f'x = {x, type(x)}, price={price, type()} )\n"
      ],
      "metadata": {
        "colab": {
          "base_uri": "https://localhost:8080/",
          "height": 106
        },
        "id": "DVN4ESZwpUgd",
        "outputId": "8d6dbb74-e05c-4f6b-f0a6-52a4a7c101f1"
      },
      "execution_count": null,
      "outputs": [
        {
          "output_type": "error",
          "ename": "SyntaxError",
          "evalue": "unterminated string literal (detected at line 10) (ipython-input-188526322.py, line 10)",
          "traceback": [
            "\u001b[0;36m  File \u001b[0;32m\"/tmp/ipython-input-188526322.py\"\u001b[0;36m, line \u001b[0;32m10\u001b[0m\n\u001b[0;31m    print (f'x = {x, type(x)}, price={price, type()} )\u001b[0m\n\u001b[0m           ^\u001b[0m\n\u001b[0;31mSyntaxError\u001b[0m\u001b[0;31m:\u001b[0m unterminated string literal (detected at line 10)\n"
          ]
        }
      ]
    },
    {
      "cell_type": "markdown",
      "source": [],
      "metadata": {
        "id": "_R8F32XRqiDn"
      }
    },
    {
      "cell_type": "code",
      "source": [
        "x = 2\n",
        "y = x + 1\n",
        "print (x,y)"
      ],
      "metadata": {
        "colab": {
          "base_uri": "https://localhost:8080/"
        },
        "id": "wQGMjArkpdlg",
        "outputId": "57dbb884-4531-49c3-883a-626df356afda"
      },
      "execution_count": null,
      "outputs": [
        {
          "output_type": "stream",
          "name": "stdout",
          "text": [
            "2 3\n"
          ]
        }
      ]
    },
    {
      "cell_type": "code",
      "source": [
        "#comment\n",
        "from platform import python_version\n",
        "print(\"Python Version:\", python_version())\n",
        "\n"
      ],
      "metadata": {
        "colab": {
          "base_uri": "https://localhost:8080/"
        },
        "id": "EP2WgBXUqRCM",
        "outputId": "bc402ad8-ce19-48b9-fe83-1ddf586bdba4"
      },
      "execution_count": null,
      "outputs": [
        {
          "output_type": "stream",
          "name": "stdout",
          "text": [
            "Python Version: 3.11.13\n"
          ]
        }
      ]
    },
    {
      "cell_type": "code",
      "source": [
        "help(python_version)"
      ],
      "metadata": {
        "colab": {
          "base_uri": "https://localhost:8080/"
        },
        "id": "zA1OJp_mqnE5",
        "outputId": "18c181ba-d438-419d-8df8-6e4354b4750d"
      },
      "execution_count": null,
      "outputs": [
        {
          "output_type": "stream",
          "name": "stdout",
          "text": [
            "Help on function python_version in module platform:\n",
            "\n",
            "python_version()\n",
            "    Returns the Python version as string 'major.minor.patchlevel'\n",
            "    \n",
            "    Note that unlike the Python sys.version, the returned value\n",
            "    will always include the patchlevel (it defaults to 0).\n",
            "\n"
          ]
        }
      ]
    },
    {
      "cell_type": "code",
      "source": [
        "x = 'Hello, World'\n",
        "print (x, type(x))\n",
        "\n",
        "\n",
        "x = 2\n",
        "print(x, type(x))\n",
        "\n",
        "x = 2.5\n",
        "print(x, type(x))\n",
        "\n",
        "x= 7j\n",
        "print (x,type(x))"
      ],
      "metadata": {
        "colab": {
          "base_uri": "https://localhost:8080/"
        },
        "id": "kdnkY53RqsIG",
        "outputId": "95772b1f-30b2-4f82-f4e9-9311c1b60147"
      },
      "execution_count": null,
      "outputs": [
        {
          "output_type": "stream",
          "name": "stdout",
          "text": [
            "Hello, World <class 'str'>\n",
            "2 <class 'int'>\n",
            "2.5 <class 'float'>\n",
            "7j <class 'complex'>\n"
          ]
        }
      ]
    },
    {
      "cell_type": "code",
      "source": [
        "x = ['apple', 'banana', 'cherry']   #list\n",
        "x.append('hello')\n",
        "print(x, type(x), x[1:3])\n",
        "\n",
        "x= ('apple', 'banana', 'cherry')    #tuple-> k co append duoc nen phhai ghi de lai\n",
        "#x.append('hello')\n",
        "x= ('apple', 'banana', 'cherry', 'hello')\n",
        "print(x, type(x), x[1:3])\n",
        "\n",
        "x = {\"name\" : \"Tom\", \"age\" : 20} #dictionary\n",
        "print(x, type(x), x['name'], x['age'])\n",
        "\n",
        "x = {\"apple\", \"banana\", \"cherry\"} #set\n",
        "x.add('hello')\n",
        "print(x, type(x))\n",
        "\n",
        "x = frozenset({\"apple\", \"banana\", \"cherry\"})    #frozenset\n",
        "print(x, type(x))\n"
      ],
      "metadata": {
        "colab": {
          "base_uri": "https://localhost:8080/"
        },
        "id": "X6LyNOXfq8Ta",
        "outputId": "d4d3fde6-735f-44df-b89b-c5bb33e202e3"
      },
      "execution_count": null,
      "outputs": [
        {
          "output_type": "stream",
          "name": "stdout",
          "text": [
            "['apple', 'banana', 'cherry', 'hello'] <class 'list'> ['banana', 'cherry']\n",
            "('apple', 'banana', 'cherry', 'hello') <class 'tuple'> ('banana', 'cherry')\n",
            "{'name': 'Tom', 'age': 20} <class 'dict'> Tom 20\n",
            "{'cherry', 'hello', 'apple', 'banana'} <class 'set'>\n",
            "frozenset({'cherry', 'apple', 'banana'}) <class 'frozenset'>\n"
          ]
        }
      ]
    },
    {
      "cell_type": "code",
      "source": [
        "x = True\n",
        "print(x,type(x))\n",
        "\n",
        "x = b'Hello'  #bytes\n",
        "print(x,type(x))\n",
        "\n",
        "x =  bytearray(5) #bytearray\n",
        "print(x,type(x))\n",
        "\n",
        "x = memoryview(bytes(5)) #memoryview\n",
        "print(x,type(x), hex(id(x)))\n",
        "\n",
        "x = None #NoneType\n",
        "print(x,type(x))"
      ],
      "metadata": {
        "colab": {
          "base_uri": "https://localhost:8080/"
        },
        "id": "7R3dtqA_tBPA",
        "outputId": "3e304bd9-4f42-4505-d2e0-e9ef904d571d"
      },
      "execution_count": null,
      "outputs": [
        {
          "output_type": "stream",
          "name": "stdout",
          "text": [
            "True <class 'bool'>\n",
            "b'Hello' <class 'bytes'>\n",
            "bytearray(b'\\x00\\x00\\x00\\x00\\x00') <class 'bytearray'>\n",
            "<memory at 0x7830cc2450c0> <class 'memoryview'> 0x7830cc2450c0\n",
            "None <class 'NoneType'>\n"
          ]
        }
      ]
    },
    {
      "cell_type": "code",
      "source": [
        "x = 2 # int\n",
        "print(x, type(x))\n",
        "\n",
        "y = 3.4 # float\n",
        "print(y, type(y))\n",
        "\n",
        "z = 7j #complex\n",
        "print(z, type(z))\n",
        "\n"
      ],
      "metadata": {
        "id": "uu97Rq1Vt_H5"
      },
      "execution_count": null,
      "outputs": []
    },
    {
      "cell_type": "code",
      "source": [
        "#Operation\n",
        "print('7 + 2 =', 7 + 2)\n",
        "print('7 - 2 =', 7 - 2)\n",
        "print('7 * 2 =', 7 * 2)\n",
        "print('7 / 2 =', 7 / 2)\n",
        "print('7 // 2 =', 7 // 2)\n",
        "print('7 % 2 =', 7 % 2)\n",
        "print('7 ** 2 =', 7 ** 2)"
      ],
      "metadata": {
        "id": "eIMInKT6uWdr"
      },
      "execution_count": null,
      "outputs": []
    },
    {
      "cell_type": "code",
      "source": [
        "#True False, Comparison\n",
        "print(3>2)\n",
        "print(3<2)\n",
        "print(3==2)\n",
        "print(3!=2)\n",
        "print(3>=2)\n",
        "print(3<=2)\n"
      ],
      "metadata": {
        "id": "uHRDGrEgui05"
      },
      "execution_count": null,
      "outputs": []
    },
    {
      "cell_type": "code",
      "source": [
        "#BMI\n",
        "#Input\n",
        "\n",
        "heigh_cm = 170\n",
        "weight_kg = 60\n",
        "\n",
        "#process\n",
        "\n",
        "height_m = heigh_cm / 100\n",
        "bmi = weight_kg / (height_m ** 2)\n",
        "\n",
        "#output\n",
        "\n",
        "print('Your BMI is', round(bmi,2))\n"
      ],
      "metadata": {
        "id": "e-iQ-kjqutJ9"
      },
      "execution_count": null,
      "outputs": []
    },
    {
      "cell_type": "code",
      "source": [
        "#100 do sau 7 nam la bao nhieu?\n",
        "\n",
        "fv = 100* (1+0.1)** 7\n",
        "print( 'fv = ', round(fv,2))"
      ],
      "metadata": {
        "id": "Wa2etnC-vZpp"
      },
      "execution_count": null,
      "outputs": []
    },
    {
      "cell_type": "code",
      "source": [
        "#input\n",
        "pv = 100\n",
        "r = 0.1\n",
        "n = 7\n",
        "\n",
        "#process\n",
        "fv = pv * ((1+r)**n)\n",
        "print ('fv = ', round(fv,2))\n"
      ],
      "metadata": {
        "id": "CPXmMy9pvzFE"
      },
      "execution_count": null,
      "outputs": []
    },
    {
      "cell_type": "code",
      "source": [
        "#Input\n",
        "amount = 100\n",
        "interest = 10   #10%\n",
        "years = 7\n",
        "\n",
        "#process\n",
        "future_value = amount * ((1+(interest/100))**years)\n",
        "print ('Future_Value = ',round(future_value,2))\n"
      ],
      "metadata": {
        "id": "pE_JnMEFwGR3"
      },
      "execution_count": null,
      "outputs": []
    },
    {
      "cell_type": "markdown",
      "source": [
        "## CẤU TRÚC DỮ LIỆU"
      ],
      "metadata": {
        "id": "GSp7tAItxUk3"
      }
    },
    {
      "cell_type": "code",
      "source": [
        "x = [\"apple\", \"banana\", \"cherry\"] #list\n",
        "print(x, type(x))\n",
        "x = (\"apple\", \"banana\", \"cherry\") #tuple\n",
        "print(x, type(x))\n",
        "x = {\"name\" : \"Tom\", \"age\" : 20} #dict\n",
        "print(x, type(x))\n",
        "x = {\"apple\", \"banana\", \"cherry\"} #set\n",
        "print(x, type(x))"
      ],
      "metadata": {
        "colab": {
          "base_uri": "https://localhost:8080/"
        },
        "id": "QMgf3VnExatc",
        "outputId": "f3dfc868-b69b-46e3-907f-9fa24b42de78"
      },
      "execution_count": null,
      "outputs": [
        {
          "output_type": "stream",
          "name": "stdout",
          "text": [
            "['apple', 'banana', 'cherry'] <class 'list'>\n",
            "('apple', 'banana', 'cherry') <class 'tuple'>\n",
            "{'name': 'Tom', 'age': 20} <class 'dict'>\n",
            "{'cherry', 'apple', 'banana'} <class 'set'>\n"
          ]
        }
      ]
    },
    {
      "cell_type": "code",
      "source": [
        "#list\n",
        "\n",
        "x=[60, 70, 80, 90]\n",
        "print(len(x))    #len(): how many items\n",
        "print(x[0])\n",
        "print(x[1])\n",
        "print(x[2])\n",
        "print(x[-1])\n",
        "print(x[3])"
      ],
      "metadata": {
        "colab": {
          "base_uri": "https://localhost:8080/"
        },
        "id": "-G-5km1mx38d",
        "outputId": "bf372f62-1f6b-40c2-e1ac-da35bd594aef"
      },
      "execution_count": null,
      "outputs": [
        {
          "output_type": "stream",
          "name": "stdout",
          "text": [
            "4\n",
            "60\n",
            "70\n",
            "80\n",
            "90\n",
            "90\n"
          ]
        }
      ]
    },
    {
      "cell_type": "code",
      "source": [
        "#tuple\n",
        "x = (10, 20, 30, 40, 50)\n",
        "print (len(x))\n",
        "print(x[0])\n",
        "print(x[1])\n",
        "print(x[2])\n",
        "print(x[-1])\n",
        "#x[0]= 50 # error"
      ],
      "metadata": {
        "colab": {
          "base_uri": "https://localhost:8080/"
        },
        "id": "0zeEfM6hykOB",
        "outputId": "c045e1a2-e8a0-4754-ca23-98798850d27c"
      },
      "execution_count": null,
      "outputs": [
        {
          "output_type": "stream",
          "name": "stdout",
          "text": [
            "5\n",
            "10\n",
            "20\n",
            "30\n",
            "50\n"
          ]
        }
      ]
    },
    {
      "cell_type": "code",
      "source": [
        "animals = {'cat', 'dog'}\n",
        "print('cat' in animals)\n",
        "print('fish' in animals)\n",
        "\n",
        "animals.add('fish')\n",
        "\n",
        "print('fish' in animals)\n",
        "print(len(animals))\n",
        "\n",
        "animals.add('cat')\n",
        "print(len(animals))\n",
        "\n",
        "animals.remove('cat')\n",
        "print(len(animals))\n"
      ],
      "metadata": {
        "colab": {
          "base_uri": "https://localhost:8080/"
        },
        "id": "hBgy6rSAzJk5",
        "outputId": "551a7993-72fa-47da-e105-4f3acdf5db12"
      },
      "execution_count": null,
      "outputs": [
        {
          "output_type": "stream",
          "name": "stdout",
          "text": [
            "True\n",
            "False\n",
            "True\n",
            "3\n",
            "3\n",
            "2\n"
          ]
        }
      ]
    },
    {
      "cell_type": "code",
      "source": [
        "#dictionary\n",
        "k = {'EN': 'English', 'FR': 'French'}\n",
        "print (k['EN'])\n",
        "\n"
      ],
      "metadata": {
        "colab": {
          "base_uri": "https://localhost:8080/"
        },
        "id": "B-S5xri5zqOw",
        "outputId": "0c98e0ef-0da1-47e1-e59d-396b0cb03f9f"
      },
      "execution_count": null,
      "outputs": [
        {
          "output_type": "stream",
          "name": "stdout",
          "text": [
            "English\n"
          ]
        }
      ]
    },
    {
      "cell_type": "code",
      "source": [
        "#data types\n",
        "fruits = [\"apple\", \"banana\", \"cherry\"] #lists []\n",
        "colors = (\"red\", \"green\", \"blue\") #tuples ()\n",
        "animals = {'cat', 'dog'} #sets {}\n",
        "person = {\"name\" : \"Tom\", \"age\" : 20} #dictionaries {}"
      ],
      "metadata": {
        "id": "Wcp5fWqF0OVr"
      },
      "execution_count": null,
      "outputs": []
    },
    {
      "cell_type": "code",
      "source": [
        "#lists\n",
        "expenses = [72.50, 80.75, 50.00, 90.25]\n",
        "total_expenses = sum(expenses)\n",
        "print('Total Expenses =',total_expenses)"
      ],
      "metadata": {
        "colab": {
          "base_uri": "https://localhost:8080/"
        },
        "id": "fQtMC7Hb0Sc_",
        "outputId": "2fca60cf-6e95-4ca6-8012-c2916ec15663"
      },
      "execution_count": null,
      "outputs": [
        {
          "output_type": "stream",
          "name": "stdout",
          "text": [
            "Total Expenses = 293.5\n"
          ]
        }
      ]
    },
    {
      "cell_type": "code",
      "source": [
        "#tuples\n",
        "accounts = ((\"Cash\", 1001), (\"Accounts Receivable\", 1002), (\"Inventory\", 1003))\n",
        "for account in accounts:\n",
        "    print('Account name: ', account[0], '- Account number: ', account[1])"
      ],
      "metadata": {
        "colab": {
          "base_uri": "https://localhost:8080/"
        },
        "id": "k8yI2YP10ljp",
        "outputId": "edf1de80-cc46-4164-8513-48e3c3efec82"
      },
      "execution_count": null,
      "outputs": [
        {
          "output_type": "stream",
          "name": "stdout",
          "text": [
            "Account name:  Cash - Account number:  1001\n",
            "Account name:  Accounts Receivable - Account number:  1002\n",
            "Account name:  Inventory - Account number:  1003\n"
          ]
        }
      ]
    },
    {
      "cell_type": "code",
      "source": [
        "#set\n",
        "account_numbers = set([acc[1] for acc in accounts])  #set comprehensive\n",
        "print(account_numbers)\n",
        "new_acc_number = 1004\n",
        "if new_acc_number not in account_numbers:\n",
        "    print(f'Account_numbers {new_acc_number} is not in use')"
      ],
      "metadata": {
        "colab": {
          "base_uri": "https://localhost:8080/"
        },
        "id": "GPSZrU2t1jr8",
        "outputId": "6c685a96-d31c-4f57-f6f2-4eb5d936a33a"
      },
      "execution_count": null,
      "outputs": [
        {
          "output_type": "stream",
          "name": "stdout",
          "text": [
            "{1001, 1002, 1003}\n",
            "Account_numbers 1004 is not in use\n"
          ]
        }
      ]
    },
    {
      "cell_type": "code",
      "source": [
        "#dictionary\n",
        "accounts = {\n",
        "    \"1001\": {\"name\": \"Cash\", \"balance\": 500.00, \"type\": \"Asset\"},\n",
        "    \"1002\": {\"name\": \"Accounts Receivable\", \"balance\": 1000.00, \"type\": \"Asset\"},\n",
        "    \"2001\": {\"name\": \"Accounts Payable\", \"balance\": 750.00, \"type\": \"Liability\"}}\n",
        "for account_number, account_info in accounts.items():\n",
        "    print('-'*50)\n",
        "\n",
        "    print(\"Account number:\", account_number)\n",
        "\n",
        "    print(\"Account name:\", account_info[\"name\"])\n",
        "\n",
        "    print(\"Account balance:\", account_info[\"balance\"])\n",
        "\n",
        "    print(\"Account type:\", account_info[\"type\"])"
      ],
      "metadata": {
        "colab": {
          "base_uri": "https://localhost:8080/"
        },
        "id": "u25v52ah3JIJ",
        "outputId": "8db019ef-a583-4e3a-f3a4-c4ca59c1fe32"
      },
      "execution_count": null,
      "outputs": [
        {
          "output_type": "stream",
          "name": "stdout",
          "text": [
            "--------------------------------------------------\n",
            "Account number: 1001\n",
            "Account name: Cash\n",
            "Account balance: 500.0\n",
            "Account type: Asset\n",
            "--------------------------------------------------\n",
            "Account number: 1002\n",
            "Account name: Accounts Receivable\n",
            "Account balance: 1000.0\n",
            "Account type: Asset\n",
            "--------------------------------------------------\n",
            "Account number: 2001\n",
            "Account name: Accounts Payable\n",
            "Account balance: 750.0\n",
            "Account type: Liability\n"
          ]
        }
      ]
    },
    {
      "cell_type": "markdown",
      "source": [
        "## CONTROL LOGIC AND LOOPS\n"
      ],
      "metadata": {
        "id": "9pCsN4vm4SuF"
      }
    },
    {
      "cell_type": "markdown",
      "source": [
        "# Mục mới"
      ],
      "metadata": {
        "id": "Imv6zbWEpdem"
      }
    },
    {
      "cell_type": "code",
      "source": [
        "#IF - ELSE\n",
        "score = 50\n",
        "if score >= 60:\n",
        "  print('PASS')\n",
        "else:\n",
        "  print('FAIL')"
      ],
      "metadata": {
        "colab": {
          "base_uri": "https://localhost:8080/"
        },
        "id": "DbeNs0Z34W4H",
        "outputId": "f1949843-93bd-4567-d13d-74b01abf30b2"
      },
      "execution_count": null,
      "outputs": [
        {
          "output_type": "stream",
          "name": "stdout",
          "text": [
            "FAIL\n"
          ]
        }
      ]
    },
    {
      "cell_type": "code",
      "source": [
        "#IF\n",
        "score = 20\n",
        "grade =''\n",
        "if score >= 90:\n",
        "  grade= 'A'\n",
        "elif score >= 80:    #SCORE <90 AND >=80\n",
        "  grade= 'B'\n",
        "elif score >= 70:\n",
        "  grade= 'C'\n",
        "elif score >= 60:\n",
        "  grade= 'D'\n",
        "else:\n",
        "  grade = 'E'\n",
        "\n",
        "print('Grade: ', grade)"
      ],
      "metadata": {
        "colab": {
          "base_uri": "https://localhost:8080/"
        },
        "id": "0nvr13BR4zLd",
        "outputId": "b8e0758f-f76f-4b08-a62c-721e694e6a5e"
      },
      "execution_count": null,
      "outputs": [
        {
          "output_type": "stream",
          "name": "stdout",
          "text": [
            "Grade:  E\n"
          ]
        }
      ]
    },
    {
      "cell_type": "code",
      "source": [
        "#loop\n",
        "for i in range(1,6):\n",
        "   print(i, end = ' ')"
      ],
      "metadata": {
        "colab": {
          "base_uri": "https://localhost:8080/"
        },
        "id": "XJKWJhBK6bYa",
        "outputId": "7071e7f4-5113-4986-dc94-c1260bc77010"
      },
      "execution_count": null,
      "outputs": [
        {
          "output_type": "stream",
          "name": "stdout",
          "text": [
            "1 2 3 4 5 "
          ]
        }
      ]
    },
    {
      "cell_type": "code",
      "source": [
        "# for loops\n",
        "for i in range(1,10):\n",
        "  for j in range(1,10):\n",
        "    print(i, ' * ' , j , ' = ', i*j)\n",
        "  print('-'*50)"
      ],
      "metadata": {
        "id": "2vKA9_rrFlK5"
      },
      "execution_count": null,
      "outputs": []
    },
    {
      "cell_type": "markdown",
      "source": [
        "## MODULE AND FUNCTION\n"
      ],
      "metadata": {
        "id": "yxrjwWKFFWJG"
      }
    },
    {
      "cell_type": "code",
      "source": [
        "def getfv(pv, r, n):\n",
        "  fv = pv * ((1 + (r)) ** n)\n",
        "  return fv\n",
        "fv = getfv(100, 0.1, 7)\n",
        "print('Future value: ',round(fv, 2))\n"
      ],
      "metadata": {
        "colab": {
          "base_uri": "https://localhost:8080/"
        },
        "id": "EUjFs5CaFdRC",
        "outputId": "af920028-96a3-48a7-9059-1f28f034c9d2"
      },
      "execution_count": null,
      "outputs": [
        {
          "output_type": "stream",
          "name": "stdout",
          "text": [
            "Future value:  194.87\n"
          ]
        }
      ]
    },
    {
      "cell_type": "code",
      "source": [
        "# Python class\n",
        "class MyClass:\n",
        "  x = 5\n",
        "c1 = MyClass()\n",
        "print(c1.x)"
      ],
      "metadata": {
        "colab": {
          "base_uri": "https://localhost:8080/"
        },
        "id": "-2or4vZ2FsIC",
        "outputId": "f6b17dd9-8918-4452-aca8-1be21d5c734e"
      },
      "execution_count": null,
      "outputs": [
        {
          "output_type": "stream",
          "name": "stdout",
          "text": [
            "5\n"
          ]
        }
      ]
    },
    {
      "cell_type": "code",
      "source": [
        "class Person:\n",
        "  def __init__(self, name, age):\n",
        "    self.name = name\n",
        "    self.age = age\n",
        "p1 = Person(\"Alan\", 20)\n",
        "print(p1.name)\n",
        "print(p1.age)"
      ],
      "metadata": {
        "colab": {
          "base_uri": "https://localhost:8080/"
        },
        "id": "1Ky1WS8oF8vE",
        "outputId": "6b70d30f-9da5-4fda-d55e-76ce222f193f"
      },
      "execution_count": null,
      "outputs": [
        {
          "output_type": "stream",
          "name": "stdout",
          "text": [
            "Alan\n",
            "20\n"
          ]
        }
      ]
    },
    {
      "cell_type": "code",
      "source": [],
      "metadata": {
        "id": "y7oRy-ImGl8a"
      },
      "execution_count": null,
      "outputs": []
    },
    {
      "cell_type": "code",
      "source": [
        "class Vehicle:\n",
        "  name = \"\"\n",
        "  kind = \"car\"\n",
        "  color = \"\"\n",
        "  value = 100.00\n",
        "\n",
        "  def __init__(self, name=\"\", kind=\"car\", color=\"\", value=100.0):\n",
        "    self.name = name\n",
        "    self.kind = kind\n",
        "    self.color = color\n",
        "    self.value = value\n",
        "    pass\n",
        "\n",
        "  def description(self):\n",
        "    desc_str = f'(self.name) is a (self.color) (self.kind) worth $(self.value)'\n",
        "    return desc_str\n",
        "    pass\n",
        "\n",
        "car1 = Vehicle()\n",
        "car1.name = 'Fer'\n",
        "car1.color = 'red'\n",
        "car1.kind = 'convertible'\n",
        "car1.value = 60000.00\n",
        "\n",
        "car2 = Vehicle('Jump', 'blue', 'van', 10000.00)\n",
        "\n",
        "print(car1.description())\n",
        "print(car2.description())\n",
        "\n"
      ],
      "metadata": {
        "colab": {
          "base_uri": "https://localhost:8080/"
        },
        "id": "gkD0ggoaGTeW",
        "outputId": "a9ae9696-6d34-47c4-f90c-ea3cb4bd5036"
      },
      "execution_count": null,
      "outputs": [
        {
          "output_type": "stream",
          "name": "stdout",
          "text": [
            "(self.name) is a (self.color) (self.kind) worth $(self.value)\n",
            "(self.name) is a (self.color) (self.kind) worth $(self.value)\n"
          ]
        }
      ]
    },
    {
      "cell_type": "code",
      "source": [
        "######### ko bieets"
      ],
      "metadata": {
        "id": "Ly8XZj26GvX9"
      },
      "execution_count": null,
      "outputs": []
    },
    {
      "cell_type": "code",
      "source": [],
      "metadata": {
        "id": "U_D5zVA6JEqc"
      },
      "execution_count": null,
      "outputs": []
    },
    {
      "cell_type": "markdown",
      "source": [
        "## TRY, EXCEPT & FILE HADLING"
      ],
      "metadata": {
        "id": "KDAXwMO3JOM9"
      }
    },
    {
      "cell_type": "code",
      "source": [
        "try:\n",
        "  f = open('aa.txt')\n",
        "  f.close()\n",
        "except:  #neu loi\n",
        "  print('File Error')\n",
        "  pass\n",
        "finally: #neu khong loi\n",
        "  print ('Final')"
      ],
      "metadata": {
        "colab": {
          "base_uri": "https://localhost:8080/"
        },
        "id": "BK7nFuKoJTJn",
        "outputId": "8192dfc5-79d6-43af-cb8a-c00a822934c1"
      },
      "execution_count": null,
      "outputs": [
        {
          "output_type": "stream",
          "name": "stdout",
          "text": [
            "File Error\n",
            "Final\n"
          ]
        }
      ]
    },
    {
      "cell_type": "code",
      "source": [
        "# !ls list files\n",
        "!ls /content/drive/MyDrive/"
      ],
      "metadata": {
        "id": "oQ3UAkzfJ6Db"
      },
      "execution_count": null,
      "outputs": []
    },
    {
      "cell_type": "code",
      "source": [],
      "metadata": {
        "id": "KUQlCAkCLi5Y"
      },
      "execution_count": null,
      "outputs": []
    },
    {
      "cell_type": "code",
      "source": [
        "import os\n",
        "\n",
        "print(os.getcwd()) #lay thu muc hientai dang dung\n",
        "print(os.listdir(os.getcwd()))\n",
        "\n",
        "/content\n",
        "[]"
      ],
      "metadata": {
        "id": "n7-p-M2UKLEE"
      },
      "execution_count": null,
      "outputs": []
    },
    {
      "cell_type": "markdown",
      "source": [
        "## KẾT THÚC"
      ],
      "metadata": {
        "id": "pHQAqZOa4LAl"
      }
    }
  ]
}