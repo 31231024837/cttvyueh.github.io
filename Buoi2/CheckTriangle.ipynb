{
 "cells": [
  {
   "cell_type": "code",
   "execution_count": 1,
   "id": "8ecd45d2-4b50-44be-97b6-99895c4a6303",
   "metadata": {},
   "outputs": [
    {
     "name": "stdin",
     "output_type": "stream",
     "text": [
      "a =  5\n",
      "b =  3\n",
      "c =  4\n"
     ]
    },
    {
     "name": "stdout",
     "output_type": "stream",
     "text": [
      "Max(3, 4, 5) = 5.\n",
      "Ba cạnh này tạo thành một tam giác.\n"
     ]
    }
   ],
   "source": [
    "# Input\n",
    "a = float(input(\"a = \"))\n",
    "b = float(input(\"b = \"))\n",
    "c = float(input(\"c = \"))\n",
    "\n",
    "# Process\n",
    "# Sắp xếp ba cạnh tăng dần để kiểm tra dễ hơn\n",
    "a, b, c = sorted([a, b, c])\n",
    "\n",
    "print(f\"Max({a:g}, {b:g}, {c:g}) = {c:g}.\")\n",
    "\n",
    "# Kiểm tra điều kiện tam giác\n",
    "if a + b > c:\n",
    "    print(\"Ba cạnh này tạo thành một tam giác.\")\n",
    "else:\n",
    "    print(\"Ba cạnh này KHÔNG tạo thành tam giác.\")\n"
   ]
  }
 ],
 "metadata": {
  "kernelspec": {
   "display_name": "Python 3 (ipykernel)",
   "language": "python",
   "name": "python3"
  },
  "language_info": {
   "codemirror_mode": {
    "name": "ipython",
    "version": 3
   },
   "file_extension": ".py",
   "mimetype": "text/x-python",
   "name": "python",
   "nbconvert_exporter": "python",
   "pygments_lexer": "ipython3",
   "version": "3.12.1"
  }
 },
 "nbformat": 4,
 "nbformat_minor": 5
}
