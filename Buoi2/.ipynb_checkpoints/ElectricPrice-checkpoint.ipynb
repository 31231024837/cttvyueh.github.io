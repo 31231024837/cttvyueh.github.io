{
 "cells": [
  {
   "cell_type": "code",
   "execution_count": 2,
   "id": "35d3defe-03f4-4f71-9a13-46caa0b3da77",
   "metadata": {},
   "outputs": [
    {
     "name": "stdin",
     "output_type": "stream",
     "text": [
      "Old kWh:  3\n",
      "New kWh:  190\n"
     ]
    },
    {
     "name": "stdout",
     "output_type": "stream",
     "text": [
      "The amount to pay for 187 kWh consumed in the month is 275,536 VND.\n"
     ]
    }
   ],
   "source": [
    "# Input\n",
    "old = int(input(\"Old kWh: \"))\n",
    "new = int(input(\"New kWh: \"))\n",
    "\n",
    "# Process\n",
    "kWh = new - old\n",
    "amount = 0\n",
    "\n",
    "if kWh <= 100:\n",
    "    amount = kWh * 1242\n",
    "elif kWh <= 150:\n",
    "    amount = 100 * 1242 + (kWh - 100) * 1304\n",
    "elif kWh <= 200:\n",
    "    amount = 100 * 1242 + 50 * 1304 + (kWh - 150) * 1651\n",
    "elif kWh <= 300:\n",
    "    amount = 100 * 1242 + 50 * 1304 + 50 * 1651 + (kWh - 200) * 1788\n",
    "elif kWh <= 400:\n",
    "    amount = 100 * 1242 + 50 * 1304 + 50 * 1651 + 100 * 1788 + (kWh - 300) * 1912\n",
    "else:\n",
    "    amount = (100 * 1242 + 50 * 1304 + 50 * 1651 +\n",
    "              100 * 1788 + 100 * 1912 + (kWh - 400) * 1962)\n",
    "\n",
    "# Thêm 10% VAT\n",
    "total = amount * 1.1\n",
    "\n",
    "# Output\n",
    "print(f\"The amount to pay for {kWh} kWh consumed in the month is {total:,.0f} VND.\")\n"
   ]
  },
  {
   "cell_type": "code",
   "execution_count": null,
   "id": "bd1ba73b-83da-4713-bd0d-2227df8b3e47",
   "metadata": {},
   "outputs": [],
   "source": []
  }
 ],
 "metadata": {
  "kernelspec": {
   "display_name": "Python 3 (ipykernel)",
   "language": "python",
   "name": "python3"
  },
  "language_info": {
   "codemirror_mode": {
    "name": "ipython",
    "version": 3
   },
   "file_extension": ".py",
   "mimetype": "text/x-python",
   "name": "python",
   "nbconvert_exporter": "python",
   "pygments_lexer": "ipython3",
   "version": "3.12.1"
  }
 },
 "nbformat": 4,
 "nbformat_minor": 5
}
