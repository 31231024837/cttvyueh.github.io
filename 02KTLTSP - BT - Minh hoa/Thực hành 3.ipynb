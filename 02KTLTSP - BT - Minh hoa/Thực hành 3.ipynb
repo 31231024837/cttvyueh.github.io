{
 "cells": [
  {
   "cell_type": "markdown",
   "id": "60ccaf29-3cdc-4922-8adf-83f7bfdc9eff",
   "metadata": {},
   "source": [
    "FILE PDF: 02KTLTSP - BT - Minh hoa"
   ]
  },
  {
   "cell_type": "markdown",
   "id": "31390637-0cd7-4f9b-aa9a-585024eaef69",
   "metadata": {},
   "source": [
    "# THỰC HÀNH 3"
   ]
  },
  {
   "cell_type": "markdown",
   "id": "c0c1f71a-3b97-4ec1-b3b0-77300ea8dec0",
   "metadata": {},
   "source": [
    "### 1. Sắp xếp List dùng string_compare và integer_compare"
   ]
  },
  {
   "cell_type": "code",
   "execution_count": 3,
   "id": "24058dc1-277c-449f-bdc1-0fd0890fdb99",
   "metadata": {},
   "outputs": [
    {
     "name": "stdout",
     "output_type": "stream",
     "text": [
      "Input: ['3', '27', '5', '123', '9', '1']\n",
      "StringSort: ['1', '123', '27', '3', '5', '9']\n",
      "INTSort: ['1', '3', '5', '9', '27', '123']\n"
     ]
    }
   ],
   "source": [
    "A = ['3', '27', '5', '123', '9', '1']\n",
    "print(\"Input:\", A)\n",
    "\n",
    "StringSort = sorted(A) # Sắp xếp theo string_compare \n",
    "print(\"StringSort:\", StringSort)\n",
    "\n",
    "# Định nghĩa hàm chuyển chuỗi sang số nguyên để sắp xếp kiểu số\n",
    "def myintSort(a):\n",
    "    return int(a)\n",
    "\n",
    "INTSort = sorted(A,key=myintSort) # Sắp xếp theo integer_compare\n",
    "print(\"INTSort:\", INTSort)"
   ]
  },
  {
   "cell_type": "markdown",
   "id": "52ca7513-684f-475a-ae60-8b112c6ebdd7",
   "metadata": {},
   "source": [
    "### 2. Viết chương trình in list sau khi đã xóa số tại vị trí thứ 1, thứ 2, thứ 3, thứ 6 trong [12,24,35,70,88,120,155]."
   ]
  },
  {
   "cell_type": "code",
   "execution_count": 4,
   "id": "777eaadb-e57a-4fff-8af8-cadce7b0ac07",
   "metadata": {},
   "outputs": [
    {
     "name": "stdout",
     "output_type": "stream",
     "text": [
      "Input: [12, 24, 35, 70, 88, 120, 155]\n",
      "Sau khi xóa: [12, 88, 120]\n"
     ]
    }
   ],
   "source": [
    "A = [12, 24, 35, 70, 88, 120, 155]\n",
    "print(\"Input:\", A)\n",
    "\n",
    "indexR = [1, 2, 3, 6]  # Các vị trí cần xóa\n",
    "\n",
    "B = [x for i, x in enumerate(A) if i not in indexR]\n",
    "print(\"Sau khi xóa:\", B)\n"
   ]
  },
  {
   "cell_type": "markdown",
   "id": "563c991d-1476-4785-b4f7-d6fcde3143d6",
   "metadata": {},
   "source": [
    "### 3. Xóa các phần tử trùng nhau trong list. "
   ]
  },
  {
   "cell_type": "code",
   "execution_count": 7,
   "id": "9969c9dc-af94-4c03-86dc-4385674a7986",
   "metadata": {},
   "outputs": [
    {
     "name": "stdout",
     "output_type": "stream",
     "text": [
      "Input: [1, 1, 1, 2, 2, 2, 3, 1, 2, 5, 6, 7, 8, 5, 6, 7]\n",
      "Output_1: [1, 2, 3, 5, 6, 7, 8]\n",
      "Output_2: [1, 2, 3, 5, 6, 7, 8]\n",
      "Output_3: [1, 2, 3, 5, 6, 7, 8]\n",
      "Output_4: [1, 2, 3, 5, 6, 7, 8]\n"
     ]
    }
   ],
   "source": [
    "A = [1, 1, 1, 2, 2, 2, 3, 1, 2, 5, 6, 7, 8, 5, 6, 7]\n",
    "print(\"Input:\",A)\n",
    "\n",
    "B = []\n",
    "[B.append(x) for x in A if x not in B]\n",
    "print(\"Output_1:\", B)\n",
    "\n",
    "#list comprehension\n",
    "newlist = [ii for n, ii in enumerate(A) if ii not in A[:n]]\n",
    "print(\"Output_2:\", newlist)\n",
    "\n",
    "#set\n",
    "NewList_set = list(set(A))\n",
    "print(\"Output_3:\", NewList_set)\n",
    "\n",
    "#dict.fromkeys - từ điển\n",
    "mylist = list(dict.fromkeys(A))\n",
    "print(\"Output_4:\", mylist)"
   ]
  },
  {
   "cell_type": "markdown",
   "id": "c1f240a7-e1d4-4683-8441-81918f93c7ea",
   "metadata": {},
   "source": [
    "### 4. Đếm số lần xuất hiện của các phần tử trong list"
   ]
  },
  {
   "cell_type": "code",
   "execution_count": 8,
   "id": "3f0f0b1b-c01c-4a7b-8e88-f27553187933",
   "metadata": {},
   "outputs": [
    {
     "name": "stdout",
     "output_type": "stream",
     "text": [
      "1:4,2:4,3:2,4:1,5:2,\n",
      "\n",
      "[[1, 4], [2, 4], [3, 2], [4, 1], [5, 2]]\n",
      "1:4,2:4,3:2,4:1,5:2,\n",
      "\n",
      "{1: 4, 2: 4, 3: 2, 4: 1, 5: 2}\n",
      "Counter({1: 4, 2: 4, 3: 2, 5: 2, 4: 1})\n"
     ]
    }
   ],
   "source": [
    "A = [1,1,1,1,2,2,2,2,3,3,4,5,5]\n",
    "\n",
    "#Cách 1: Không dùngg set và dictionary\n",
    "e = []\n",
    "for i in range(len(A)):\n",
    "    if A[i] not in e:\n",
    "        e.append(A[i])\n",
    "        print(A[i], \":\", A.count(A[i]), sep='', end=\",\")\n",
    "print(\"\\n\")\n",
    "\n",
    "#Cách 2: Dùng set \n",
    "b = [[x, A.count(x)] for x in set(A)]\n",
    "print(b)\n",
    "for i in range(len(b)):\n",
    "    print(b[i][0], \":\", b[i][1], sep='', end=\",\")\n",
    "print(\"\\n\")\n",
    "\n",
    "#C3: Dùng từ điển\n",
    "d = {x: A.count(x) for x in A}\n",
    "print(d)\n",
    "\n",
    "#C4: Dùng Counter()\n",
    "import collections\n",
    "ctr = collections.Counter(A)\n",
    "print(ctr)\n"
   ]
  }
 ],
 "metadata": {
  "kernelspec": {
   "display_name": "Python 3 (ipykernel)",
   "language": "python",
   "name": "python3"
  },
  "language_info": {
   "codemirror_mode": {
    "name": "ipython",
    "version": 3
   },
   "file_extension": ".py",
   "mimetype": "text/x-python",
   "name": "python",
   "nbconvert_exporter": "python",
   "pygments_lexer": "ipython3",
   "version": "3.12.1"
  }
 },
 "nbformat": 4,
 "nbformat_minor": 5
}
