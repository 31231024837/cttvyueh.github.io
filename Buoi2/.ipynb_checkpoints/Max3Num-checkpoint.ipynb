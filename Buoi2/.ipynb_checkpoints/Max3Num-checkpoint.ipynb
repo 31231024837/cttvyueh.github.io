{
 "cells": [
  {
   "cell_type": "markdown",
   "id": "e9479075-d4ac-41ae-adb0-ca696110934f",
   "metadata": {},
   "source": [
    "# Tìm giá trị lớn nhất"
   ]
  },
  {
   "cell_type": "raw",
   "id": "ceae04f5-82c4-4e5e-bee8-107cf51651c6",
   "metadata": {},
   "source": [
    "Viết chương trình nhập vào 3 số nguyên a, b, c. Tìm giá trị lớn nhất của 3 số đó"
   ]
  },
  {
   "cell_type": "code",
   "execution_count": 7,
   "id": "95d317cd-4ed7-427b-bc94-8c6bb78e8ef5",
   "metadata": {},
   "outputs": [
    {
     "name": "stdin",
     "output_type": "stream",
     "text": [
      "Nhập a:  2\n",
      "Nhập b:  5\n",
      "Nhập c:  4\n"
     ]
    },
    {
     "name": "stdout",
     "output_type": "stream",
     "text": [
      "Max(2, 5, 4) = 5\n"
     ]
    }
   ],
   "source": [
    "# Input a, b, c\n",
    "a = int(input(\"Nhập a: \"))\n",
    "b = int(input(\"Nhập b: \"))\n",
    "c = int(input(\"Nhập c: \"))\n",
    "\n",
    "# Hàm tìm giá trị lớn hơn giữa hai số\n",
    "def max_fn(x, y):\n",
    "    return x if x > y else y\n",
    "\n",
    "# Tìm giá trị lớn nhất trong ba số\n",
    "vmax = max_fn(a, b)\n",
    "vmax = max_fn(vmax, c)\n",
    "\n",
    "# Output\n",
    "print(\"Max(%d, %d, %d) = %d\" % (a, b, c, vmax))"
   ]
  }
 ],
 "metadata": {
  "kernelspec": {
   "display_name": "Python 3 (ipykernel)",
   "language": "python",
   "name": "python3"
  },
  "language_info": {
   "codemirror_mode": {
    "name": "ipython",
    "version": 3
   },
   "file_extension": ".py",
   "mimetype": "text/x-python",
   "name": "python",
   "nbconvert_exporter": "python",
   "pygments_lexer": "ipython3",
   "version": "3.12.1"
  }
 },
 "nbformat": 4,
 "nbformat_minor": 5
}
