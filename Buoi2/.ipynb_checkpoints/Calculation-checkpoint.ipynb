{
 "cells": [
  {
   "cell_type": "code",
   "execution_count": 1,
   "id": "08217ac5-4bde-4312-a14c-7ba8a5db10fa",
   "metadata": {},
   "outputs": [
    {
     "name": "stdin",
     "output_type": "stream",
     "text": [
      "Nhập số thứ nhất:  8\n",
      "Nhập số thứ hai:  3\n",
      "Nhập phép toán (+, -, *, /):  +\n"
     ]
    },
    {
     "name": "stdout",
     "output_type": "stream",
     "text": [
      "8 + 3 = 11\n"
     ]
    }
   ],
   "source": [
    "# Nhập dữ liệu\n",
    "a = float(input(\"Nhập số thứ nhất: \"))\n",
    "b = float(input(\"Nhập số thứ hai: \"))\n",
    "op = input(\"Nhập phép toán (+, -, *, /): \")\n",
    "\n",
    "# Xử lý\n",
    "if op == \"+\":\n",
    "    result = a + b\n",
    "elif op == \"-\":\n",
    "    result = a - b\n",
    "elif op == \"*\":\n",
    "    result = a * b\n",
    "elif op == \"/\":\n",
    "    if b == 0:\n",
    "        print(\"Không tính được\")\n",
    "        result = None\n",
    "    else:\n",
    "        result = a / b\n",
    "else:\n",
    "    print(\"Phép toán không hợp lệ!\")\n",
    "    result = None\n",
    "\n",
    "# Xuất kết quả\n",
    "if result is not None:\n",
    "    print(f\"{a:g} {op} {b:g} = {result:g}\")"
   ]
  },
  {
   "cell_type": "code",
   "execution_count": null,
   "id": "eb21bf3b-e369-40ab-bad7-b444f0c45d4d",
   "metadata": {},
   "outputs": [],
   "source": []
  }
 ],
 "metadata": {
  "kernelspec": {
   "display_name": "Python 3 (ipykernel)",
   "language": "python",
   "name": "python3"
  },
  "language_info": {
   "codemirror_mode": {
    "name": "ipython",
    "version": 3
   },
   "file_extension": ".py",
   "mimetype": "text/x-python",
   "name": "python",
   "nbconvert_exporter": "python",
   "pygments_lexer": "ipython3",
   "version": "3.12.1"
  }
 },
 "nbformat": 4,
 "nbformat_minor": 5
}
