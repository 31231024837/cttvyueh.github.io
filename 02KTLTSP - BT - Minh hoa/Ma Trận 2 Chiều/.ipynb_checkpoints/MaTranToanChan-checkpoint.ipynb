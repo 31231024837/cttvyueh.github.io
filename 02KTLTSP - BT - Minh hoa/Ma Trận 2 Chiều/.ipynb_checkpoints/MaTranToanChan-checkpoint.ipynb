{
 "cells": [
  {
   "cell_type": "markdown",
   "id": "d17eb940-57a1-4a0d-a290-d0060958c03d",
   "metadata": {},
   "source": [
    "# Bài 3. Ma trận toàn chẵn "
   ]
  },
  {
   "cell_type": "raw",
   "id": "ad232843-63d6-4113-a8a8-e18a3564e571",
   "metadata": {},
   "source": [
    "Cho ma trận A chứa các số nguyên có n dòng và m cột (1 ≤ n, m ≤ 100). Hãy kiểm\n",
    "tra xem ma trận có toàn chẵn không?"
   ]
  },
  {
   "cell_type": "code",
   "execution_count": 1,
   "id": "27ea01f1-9107-4f33-8d10-9f2b0cb834ab",
   "metadata": {},
   "outputs": [
    {
     "name": "stdin",
     "output_type": "stream",
     "text": [
      "Nhập số dòng và số cột (n m):  2 3\n"
     ]
    },
    {
     "name": "stdout",
     "output_type": "stream",
     "text": [
      "Nhập các phần tử của ma trận A:\n"
     ]
    },
    {
     "name": "stdin",
     "output_type": "stream",
     "text": [
      " 2 4 6\n",
      " 8 10 12\n"
     ]
    },
    {
     "name": "stdout",
     "output_type": "stream",
     "text": [
      "Mang A toan chan!\n"
     ]
    }
   ],
   "source": [
    "n, m = map(int, input(\"Nhập số dòng và số cột (n m): \").split())\n",
    "\n",
    "A = []\n",
    "print(\"Nhập các phần tử của ma trận A:\")\n",
    "for i in range(n):\n",
    "    row = list(map(int, input().split()))\n",
    "    A.append(row)\n",
    "\n",
    "is_all_even = all(x % 2 == 0 for row in A for x in row) # Kiểm tra xem ma trận có toàn chẵn không\n",
    "\n",
    "if is_all_even:\n",
    "    print(\"Mang A toan chan!\")\n",
    "else:\n",
    "    print(\"Mang A khong toan chan!\")"
   ]
  }
 ],
 "metadata": {
  "kernelspec": {
   "display_name": "Python 3 (ipykernel)",
   "language": "python",
   "name": "python3"
  },
  "language_info": {
   "codemirror_mode": {
    "name": "ipython",
    "version": 3
   },
   "file_extension": ".py",
   "mimetype": "text/x-python",
   "name": "python",
   "nbconvert_exporter": "python",
   "pygments_lexer": "ipython3",
   "version": "3.12.1"
  }
 },
 "nbformat": 4,
 "nbformat_minor": 5
}
