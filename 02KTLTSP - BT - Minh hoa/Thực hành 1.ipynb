{
 "cells": [
  {
   "cell_type": "markdown",
   "id": "60ccaf29-3cdc-4922-8adf-83f7bfdc9eff",
   "metadata": {},
   "source": [
    "FILE PDF: 02KTLTSP - BT - Minh hoa"
   ]
  },
  {
   "cell_type": "markdown",
   "id": "6393d5b2-2961-45e8-a0f7-c02cd246b55c",
   "metadata": {},
   "source": [
    "# THỰC HÀNH"
   ]
  },
  {
   "cell_type": "markdown",
   "id": "63fd7e04-6d00-4d11-82de-65730fc52eb8",
   "metadata": {},
   "source": [
    "### 1.Viết chương trình nhập số A và kiểm tra xem A có phải là số nguyên tố hay không?"
   ]
  },
  {
   "cell_type": "code",
   "execution_count": 2,
   "id": "d551b649-9712-4ff0-a0d8-239f0276715b",
   "metadata": {},
   "outputs": [
    {
     "name": "stdin",
     "output_type": "stream",
     "text": [
      "Nhập vào số nguyên:  5\n"
     ]
    },
    {
     "name": "stdout",
     "output_type": "stream",
     "text": [
      "5 là số nguyên tố\n"
     ]
    }
   ],
   "source": [
    "def ktsnt(n):\n",
    "    if n < 2:  # 0, 1 không là số nguyên tố\n",
    "        return False\n",
    "    for i in range(2, int(n**0.5) + 1):  # kiểm tra đến căn bậc hai của n\n",
    "        if n % i == 0:\n",
    "            return False\n",
    "    return True\n",
    "\n",
    "# Nhập vào số nguyên cần kiểm tra\n",
    "a = int(input(\"Nhập vào số nguyên: \"))\n",
    "\n",
    "if ktsnt(a):\n",
    "    print(\"%d là số nguyên tố\" % a)\n",
    "else:\n",
    "    print(\"%d không là số nguyên tố\" % a)\n"
   ]
  },
  {
   "cell_type": "markdown",
   "id": "6a3120b4-651c-459c-bad3-a7e0217f1fda",
   "metadata": {},
   "source": [
    "#### Mở rộng: 1- a) Nhập vào N, liệt kê tất cả các số nguyên tố nhỏ hơn N"
   ]
  },
  {
   "cell_type": "code",
   "execution_count": 8,
   "id": "2d9f1f11-a43f-4f14-845f-9ad3caf781c3",
   "metadata": {},
   "outputs": [
    {
     "name": "stdout",
     "output_type": "stream",
     "text": [
      "Các số nguyên tố nhỏ hơn 200 là:\n",
      "2 3 5 7 11 13 17 19 23 29 31 37 41 43 47 53 59 61 67 71 73 79 83 89 97 101 103 107 109 113 127 131 137 139 149 151 157 163 167 173 179 181 191 193 197 199 "
     ]
    }
   ],
   "source": [
    "def lietkesnt(k):\n",
    "    if k <= 2:\n",
    "        print(\"Không có số nguyên tố nào nhỏ hơn\", k)\n",
    "    else:\n",
    "        print(f\"Các số nguyên tố nhỏ hơn {k} là:\")\n",
    "        for i in range(2, k):\n",
    "            if ktsnt(i):\n",
    "                print(i, end=\" \")\n",
    "n = 200\n",
    "lietkesnt(n)\n"
   ]
  },
  {
   "cell_type": "markdown",
   "id": "407f5d02-fc2e-482c-876a-57ab5df3a52f",
   "metadata": {},
   "source": [
    "#### Mở rộng: 1- b) In ra M số nguyên tố đầu tiên"
   ]
  },
  {
   "cell_type": "code",
   "execution_count": 7,
   "id": "16eae6e3-c86b-43fe-a883-f1e4c5705bec",
   "metadata": {},
   "outputs": [
    {
     "name": "stdout",
     "output_type": "stream",
     "text": [
      "10 số nguyên tố đầu tiên là:\n",
      "2 3 5 7 11 13 17 19 23 29 "
     ]
    }
   ],
   "source": [
    "def lietkeMsnt(M):\n",
    "    bien_dem = 0  # đếm từ 0 đến M-1\n",
    "    t = 2  # bắt đầu kiểm tra từ 2\n",
    "    print(f\"{M} số nguyên tố đầu tiên là:\")\n",
    "    while bien_dem < M:\n",
    "        if ktsnt(t):\n",
    "            print(t, end=\" \")\n",
    "            bien_dem += 1\n",
    "        t += 1\n",
    "\n",
    "M = 10\n",
    "lietkeMsnt(M)"
   ]
  },
  {
   "cell_type": "markdown",
   "id": "074993b7-78ec-442b-b9c9-bc2fa20cd866",
   "metadata": {},
   "source": [
    "### 2. Viết chương trình in ra tất cả số chẵn trong khoảng (M,N) . N, M nhập từ bàn phím."
   ]
  },
  {
   "cell_type": "code",
   "execution_count": 10,
   "id": "b4023d1b-c32e-4021-a65a-c9bfe12fa5e0",
   "metadata": {},
   "outputs": [
    {
     "name": "stdin",
     "output_type": "stream",
     "text": [
      "Nhập M:  4\n",
      "Nhập N:  7\n"
     ]
    },
    {
     "name": "stdout",
     "output_type": "stream",
     "text": [
      "6 "
     ]
    }
   ],
   "source": [
    "def in_so_chan(M, N):\n",
    "    for i in range(M + 1, N):\n",
    "        if i % 2 == 0:\n",
    "            print(i, end=\" \")\n",
    "\n",
    "M = int(input(\"Nhập M: \"))\n",
    "N = int(input(\"Nhập N: \"))\n",
    "\n",
    "in_so_chan(M, N)"
   ]
  },
  {
   "cell_type": "markdown",
   "id": "d1872da4-caac-4370-ae54-2bc1ee811233",
   "metadata": {},
   "source": [
    "#### Mở rộng : 2-a) Tìm tất cả các số chia hết cho 7 nhưng không phải bội số của 5, nằm trong đoạn [99;999] (tính cả 99 và 999)"
   ]
  },
  {
   "cell_type": "code",
   "execution_count": 11,
   "id": "b7dbe544-9e9e-4a24-83f9-b7e7f024edad",
   "metadata": {},
   "outputs": [
    {
     "name": "stdout",
     "output_type": "stream",
     "text": [
      "112 119 126 133 147 154 161 168 182 189 196 203 217 224 231 238 252 259 266 273 287 294 301 308 322 329 336 343 357 364 371 378 392 399 406 413 427 434 441 448 462 469 476 483 497 504 511 518 532 539 546 553 567 574 581 588 602 609 616 623 637 644 651 658 672 679 686 693 707 714 721 728 742 749 756 763 777 784 791 798 812 819 826 833 847 854 861 868 882 889 896 903 917 924 931 938 952 959 966 973 987 994 "
     ]
    }
   ],
   "source": [
    "def lietke1(M, N):\n",
    "    for i in range(M, N + 1):\n",
    "        if (i % 7 == 0) and (i % 5 != 0):\n",
    "            print(i, end=\" \")\n",
    "\n",
    "M = 99\n",
    "N = 999\n",
    "lietke1(M, N)"
   ]
  },
  {
   "cell_type": "markdown",
   "id": "3919c854-87a8-4d66-b3ef-ae5c5db80107",
   "metadata": {},
   "source": [
    "#### Mở rộng : 2-b) Tìm số đầu tiên chia hết cho 9 và chia hết cho 7 nằm trong đoạn [M,N]"
   ]
  },
  {
   "cell_type": "code",
   "execution_count": 14,
   "id": "b032662e-c72b-4bcc-91dd-8940f930cadd",
   "metadata": {},
   "outputs": [
    {
     "name": "stdout",
     "output_type": "stream",
     "text": [
      "Số đầu tiên chia hết cho 9 và 7 là: 126\n"
     ]
    }
   ],
   "source": [
    "def lietke2(M, N):\n",
    "    q = -1\n",
    "    for i in range(M, N + 1):\n",
    "        if (i % 9 == 0) and (i % 7 == 0):\n",
    "            q = i\n",
    "            break\n",
    "    return q\n",
    "\n",
    "M = 64\n",
    "N = 300\n",
    "q = lietke2(M, N)\n",
    "\n",
    "if q == -1:\n",
    "    print(\"Không có số thỏa điều kiện\")\n",
    "else:\n",
    "    print(\"Số đầu tiên chia hết cho 9 và 7 là:\", q)"
   ]
  },
  {
   "cell_type": "code",
   "execution_count": 15,
   "id": "fc64080d-0b9e-40fb-bc55-562b1137cd83",
   "metadata": {},
   "outputs": [
    {
     "name": "stdout",
     "output_type": "stream",
     "text": [
      "chieu dai chuoi : 20\n",
      "check len() function: 20\n"
     ]
    }
   ],
   "source": [
    "def chieudaiChuoi(str1):\n",
    "    count = 0\n",
    "    for char in str1:  # duyệt từng ký tự trong chuỗi\n",
    "        count += 1     # tăng biến đếm mỗi lần gặp 1 ký tự\n",
    "    return count       # trả về độ dài\n",
    "\n",
    "ss = 'hello world ... !!!!'\n",
    "\n",
    "print('chieu dai chuoi : {}'.format(chieudaiChuoi(ss)))\n",
    "print('check len() function:', len(ss))"
   ]
  },
  {
   "cell_type": "code",
   "execution_count": null,
   "id": "67247933-1e41-4367-b8a5-510854907a5b",
   "metadata": {},
   "outputs": [],
   "source": []
  },
  {
   "cell_type": "code",
   "execution_count": null,
   "id": "769cc764-0d4c-4ef7-a65a-ad1dd7947b20",
   "metadata": {},
   "outputs": [],
   "source": [
    "##TRUONG HOP K DUNG SPLIT\n",
    "def dem_tu(chuoi):\n",
    "    dem = 0\n",
    "    in_word = False  # biến đánh dấu đang ở trong một từ hay không\n",
    "\n",
    "    for ch in chuoi:\n",
    "        if ch != ' ':           # nếu không phải khoảng trắng\n",
    "            if not in_word:     # và trước đó không ở trong từ\n",
    "                dem += 1        # bắt đầu một từ mới\n",
    "                in_word = True\n",
    "        else:\n",
    "            in_word = False     # gặp khoảng trắng → kết thúc từ\n",
    "    return dem\n",
    "\n",
    "\n",
    "# --- kiểm tra ---\n",
    "s = \"Tach chuoi khong dung split\"\n",
    "print(\"Input:\", s)\n",
    "print(\"So tu trong chuoi la:\", dem_tu(s))\n"
   ]
  }
 ],
 "metadata": {
  "kernelspec": {
   "display_name": "Python 3 (ipykernel)",
   "language": "python",
   "name": "python3"
  },
  "language_info": {
   "codemirror_mode": {
    "name": "ipython",
    "version": 3
   },
   "file_extension": ".py",
   "mimetype": "text/x-python",
   "name": "python",
   "nbconvert_exporter": "python",
   "pygments_lexer": "ipython3",
   "version": "3.12.1"
  }
 },
 "nbformat": 4,
 "nbformat_minor": 5
}
