{
 "cells": [
  {
   "cell_type": "raw",
   "id": "50066b7b-e762-45fc-99ca-cb59f8703887",
   "metadata": {},
   "source": [
    "Fuke PDF: 02 KTLTSP - TH - Bai tap thuc hanh 1"
   ]
  },
  {
   "cell_type": "markdown",
   "id": "e74fc918-a0fe-4c28-a457-6741e157abe3",
   "metadata": {},
   "source": [
    "# BÀI TẬP THỰC HÀNH 1"
   ]
  },
  {
   "cell_type": "markdown",
   "id": "684b0425-705b-4c04-a9ca-962c7e68b921",
   "metadata": {},
   "source": [
    "## InNhan."
   ]
  },
  {
   "cell_type": "raw",
   "id": "f84af680-f400-4885-98fc-3bd71e65736c",
   "metadata": {},
   "source": [
    "Bài 1. In nhãn \n",
    "Viết chương trình in ra nhãn gồm nhiều dòng như sau:\n",
    "**************************\n",
    "* Truong: Dai Hoc UEH    *\n",
    "* Khoa: CNTT             *\n",
    "* Ho ten:                *\n",
    "**************************"
   ]
  },
  {
   "cell_type": "code",
   "execution_count": 1,
   "id": "5d176615-2397-4bb1-b352-67b015ba5730",
   "metadata": {},
   "outputs": [
    {
     "name": "stdout",
     "output_type": "stream",
     "text": [
      "**************************\n",
      "* Truong: Dai Hoc UEH    *\n",
      "* Khoa: CNTT             *\n",
      "* Ho ten:                *\n",
      "**************************\n"
     ]
    }
   ],
   "source": [
    "print(\"**************************\")\n",
    "print(\"* Truong: Dai Hoc UEH    *\")\n",
    "print(\"* Khoa: CNTT             *\")\n",
    "print(\"* Ho ten:                *\")\n",
    "print(\"**************************\")"
   ]
  },
  {
   "cell_type": "markdown",
   "id": "c6f9a0d3-0dcc-41bb-a3d8-9f2ffd65b6a2",
   "metadata": {},
   "source": [
    "## HinhTron."
   ]
  },
  {
   "cell_type": "raw",
   "id": "9c7ecfd5-360f-4db1-8f2f-62a76550f5d3",
   "metadata": {},
   "source": [
    "Bài 2. Tính diện tích và chu hình tròn\n",
    "Nhập vào bán kính R của một hình tròn. Hãy tính diện tích và chu vi hình tròn đó theo công thức:𝑆 =\n",
    "3.14𝑥𝑅2, 𝑃 = 2𝑥3.14𝑥𝑅. In kết quả với 1 số lẻ thập phân."
   ]
  },
  {
   "cell_type": "code",
   "execution_count": 1,
   "id": "2c635b96-f101-433e-bef9-7d3086f388d8",
   "metadata": {},
   "outputs": [
    {
     "name": "stdin",
     "output_type": "stream",
     "text": [
      "Nhap ban kinh R:  5\n"
     ]
    },
    {
     "name": "stdout",
     "output_type": "stream",
     "text": [
      "Dien tich S = 78.5\n",
      "Chu vi P = 31.4\n"
     ]
    }
   ],
   "source": [
    "# Nhập vào bán kính R\n",
    "R = float(input(\"Nhap ban kinh R: \"))\n",
    "# Tính diện tích và chu vi\n",
    "S = 3.14 * R ** 2\n",
    "P = 2 * 3.14 * R\n",
    "# In kết quả với 1 số lẻ thập phân\n",
    "print(f\"Dien tich S = {S:.1f}\")\n",
    "print(f\"Chu vi P = {P:.1f}\")"
   ]
  },
  {
   "cell_type": "markdown",
   "id": "ffd8bae5-1353-49b1-b0a4-3bcfb5d1f0f7",
   "metadata": {},
   "source": [
    "## DoiSangGiay."
   ]
  },
  {
   "cell_type": "raw",
   "id": "7f10ba49-ee9b-48d5-8753-3eb62008c07e",
   "metadata": {},
   "source": [
    "Bài 3. Đổi sang giây \n",
    "Một thiết bị hoạt động được h giờ, m phút và s giây. Hãy viết chương trình chuyển thời gian đó sang\n",
    "tổng số giây. "
   ]
  },
  {
   "cell_type": "code",
   "execution_count": 2,
   "id": "10956001-54ae-4809-9213-75ff095ef69b",
   "metadata": {},
   "outputs": [
    {
     "name": "stdin",
     "output_type": "stream",
     "text": [
      "Nhap so gio:  1\n",
      "Nhap so phut:  20\n",
      "Nhap so giay:  10\n"
     ]
    },
    {
     "name": "stdout",
     "output_type": "stream",
     "text": [
      "Tong so giay cua 1:20:10 la 4810 giay\n"
     ]
    }
   ],
   "source": [
    "# Nhập vào giờ, phút, giây\n",
    "h = int(input(\"Nhap so gio: \"))\n",
    "m = int(input(\"Nhap so phut: \"))\n",
    "s = int(input(\"Nhap so giay: \"))\n",
    "\n",
    "# Tính tổng số giây\n",
    "tong_giay = h * 3600 + m * 60 + s\n",
    "\n",
    "# In kết quả\n",
    "print(f\"Tong so giay cua {h}:{m}:{s} la {tong_giay} giay\")"
   ]
  },
  {
   "cell_type": "markdown",
   "id": "1f1f70ac-6c50-4dac-bf4c-4ae8cb778619",
   "metadata": {},
   "source": [
    "## DoiSangGioPhutGiay."
   ]
  },
  {
   "cell_type": "raw",
   "id": "768c2dd9-76a7-4cd6-b5ed-bca440ed26a9",
   "metadata": {},
   "source": [
    "Bài 4. Đổi sang giờ phút giây \n",
    "Một thiết bị hoạt động được t giây. Hãy viết chương trình chuyển số giây đó dưới dạng số giờ, số phút\n",
    "và số giây"
   ]
  },
  {
   "cell_type": "code",
   "execution_count": 3,
   "id": "eea4daae-f734-4c8b-842b-33ebe29b5db9",
   "metadata": {},
   "outputs": [
    {
     "name": "stdin",
     "output_type": "stream",
     "text": [
      "Nhap vao tong so giay:  4810\n"
     ]
    },
    {
     "name": "stdout",
     "output_type": "stream",
     "text": [
      "4810 giay co dang 1:20:10\n"
     ]
    }
   ],
   "source": [
    "# Nhập tổng số giây\n",
    "t = int(input(\"Nhap vao tong so giay: \"))\n",
    "\n",
    "# Tính số giờ, phút, giây\n",
    "h = t // 3600               # số giờ\n",
    "m = (t % 3600) // 60        # số phút\n",
    "s = t % 60                  # số giây còn lại\n",
    "\n",
    "# In kết quả\n",
    "print(f\"{t} giay co dang {h}:{m}:{s}\")"
   ]
  },
  {
   "cell_type": "markdown",
   "id": "8e137027-e33f-4fd0-8dd8-f2f878f5bda4",
   "metadata": {},
   "source": [
    "## DienTichTamGiac."
   ]
  },
  {
   "cell_type": "raw",
   "id": "b509f838-58f8-4ce6-8b54-fe099e563996",
   "metadata": {},
   "source": [
    "Bài 5. Tính diện tích tam giác \n",
    "Cho 3 số thực a, b, c là độ dài 3 cạnh của một tam giác. Hãy tính diện tích tam giác này theo công thức\n",
    "Heron: 𝑆 = √𝑝(𝑝 − 𝑎)(𝑝 − 𝑏)(𝑝 − 𝑐) với 𝑝 =(𝑎+𝑏+𝑐)/2. In kết quả với 2 số lẻ thập phân."
   ]
  },
  {
   "cell_type": "code",
   "execution_count": 4,
   "id": "9a920b91-e474-4b23-aee5-61ff0325b49b",
   "metadata": {},
   "outputs": [],
   "source": [
    "import math  "
   ]
  },
  {
   "cell_type": "code",
   "execution_count": 5,
   "id": "86d1bfda-01d1-4722-a9b7-a804577dba23",
   "metadata": {},
   "outputs": [
    {
     "name": "stdin",
     "output_type": "stream",
     "text": [
      "Nhap do dai canh a:  2\n",
      "Nhap do dai canh b:  4\n",
      "Nhap do dai canh c:  3\n"
     ]
    },
    {
     "name": "stdout",
     "output_type": "stream",
     "text": [
      "Dien tich tam giac S = 2.90\n"
     ]
    }
   ],
   "source": [
    "# Nhập độ dài 3 cạnh\n",
    "a = float(input(\"Nhap do dai canh a: \"))\n",
    "b = float(input(\"Nhap do dai canh b: \"))\n",
    "c = float(input(\"Nhap do dai canh c: \"))\n",
    "\n",
    "# Tính nửa chu vi\n",
    "p = (a + b + c) / 2\n",
    "\n",
    "# Tính diện tích theo công thức Heron\n",
    "S = math.sqrt(p * (p - a) * (p - b) * (p - c))\n",
    "\n",
    "# In kết quả với 2 số lẻ thập phân\n",
    "print(f\"Dien tich tam giac S = {S:.2f}\")"
   ]
  },
  {
   "cell_type": "markdown",
   "id": "c1f3ff44-d408-48b8-9c02-a0ce13571096",
   "metadata": {},
   "source": [
    "## TinhMu."
   ]
  },
  {
   "cell_type": "raw",
   "id": "e07dd466-0a14-4e98-996b-6c327f57d97e",
   "metadata": {},
   "source": [
    "Bài 6. Hàm Mũ \n",
    "Nhập số thực a và số nguyên n. Hãy tính a^n"
   ]
  },
  {
   "cell_type": "code",
   "execution_count": 9,
   "id": "e6cb2703-daef-4d6b-a43c-005c27e7ced2",
   "metadata": {},
   "outputs": [
    {
     "name": "stdin",
     "output_type": "stream",
     "text": [
      "Nhap so thuc a:  2\n",
      "Nhap so mu n:  4\n"
     ]
    },
    {
     "name": "stdout",
     "output_type": "stream",
     "text": [
      "Ket qua 2^4 = 16\n"
     ]
    }
   ],
   "source": [
    "# Nhập số thực a và số nguyên n\n",
    "a = float(input(\"Nhap so thuc a: \"))\n",
    "n = int(input(\"Nhap so mu n: \"))\n",
    "\n",
    "# Tính a^n\n",
    "ket_qua = a ** n\n",
    "\n",
    "# In kết quả\n",
    "print(f\"Ket qua {a:g}^{n} = {ket_qua:g}\")"
   ]
  },
  {
   "cell_type": "markdown",
   "id": "de4ff911-e3fe-4c47-8f46-e6fbb1afbc0f",
   "metadata": {},
   "source": [
    "## DaoSo."
   ]
  },
  {
   "cell_type": "raw",
   "id": "34e244de-a292-4c65-af39-a478e0044393",
   "metadata": {},
   "source": [
    "Bài 7. Đảo số Da\n",
    "Cho số nguyên x có 4 chữ số. Hãy tìm số y là số đảo của số x, tức là số có các chữ số viết theo thứ tự\n",
    "ngược lại của x.\n",
    "Ví dụ: x = 1234 → y = 4321"
   ]
  },
  {
   "cell_type": "code",
   "execution_count": null,
   "id": "9937bbc0-8cfb-4112-8d64-2cda4d1d5439",
   "metadata": {},
   "outputs": [],
   "source": []
  },
  {
   "cell_type": "markdown",
   "id": "7ef89d2e-7ee0-4220-bff8-411b257a2b70",
   "metadata": {},
   "source": [
    "## DoSangRadian."
   ]
  },
  {
   "cell_type": "raw",
   "id": "d63b3561-a31f-497c-b028-f7b4e01fe67c",
   "metadata": {},
   "source": [
    "Bài 8. Độ sang Radian\n",
    "Tìm công thức và viết chương trình chuyển một góc từ độ sang radian."
   ]
  },
  {
   "cell_type": "code",
   "execution_count": 10,
   "id": "2233a9c2-529a-4054-ac2e-a4b46250d575",
   "metadata": {},
   "outputs": [],
   "source": [
    "import math"
   ]
  },
  {
   "cell_type": "code",
   "execution_count": 11,
   "id": "ac829bbb-6368-4918-bc67-e4e98ddfd305",
   "metadata": {},
   "outputs": [
    {
     "name": "stdin",
     "output_type": "stream",
     "text": [
      "Nhap goc (do):  60\n"
     ]
    },
    {
     "name": "stdout",
     "output_type": "stream",
     "text": [
      "60.0 do = 1.0472 radian\n"
     ]
    }
   ],
   "source": [
    "# Nhập góc theo độ\n",
    "degree = float(input(\"Nhap goc (do): \"))\n",
    "\n",
    "# Đổi sang radian\n",
    "radian = degree * math.pi / 180\n",
    "\n",
    "# In kết quả với 4 chữ số thập phân\n",
    "print(f\"{degree} do = {radian:.4f} radian\")"
   ]
  },
  {
   "cell_type": "markdown",
   "id": "0a1720b2-f988-419e-86ba-1923947276d8",
   "metadata": {},
   "source": [
    "## HamSo1."
   ]
  },
  {
   "cell_type": "raw",
   "id": "21084130-ed04-4961-a671-9d8c6b14ce31",
   "metadata": {},
   "source": [
    "Bài 9. Nhập số thực x, tính và in ra các giá trị y1, y2 (hàm cho sẵn, kết quả làm tròn 2 số lẻ):"
   ]
  },
  {
   "cell_type": "code",
   "execution_count": 3,
   "id": "f7ae9200-d09b-4487-af18-6b58dfcd6175",
   "metadata": {},
   "outputs": [
    {
     "name": "stdin",
     "output_type": "stream",
     "text": [
      "Nhap vao so thuc x:  2\n"
     ]
    },
    {
     "name": "stdout",
     "output_type": "stream",
     "text": [
      "y1 = 157.14\n",
      "y2 = 0.04\n"
     ]
    }
   ],
   "source": [
    "import math\n",
    "# Nhập giá trị x\n",
    "x = float(input(\"Nhap vao so thuc x: \"))\n",
    "\n",
    "# Tính y1 và y2 theo đề\n",
    "y1 = 4 * (x**2 + 10 * x * math.sqrt(x) + 3 * x + 1)\n",
    "y2 = (math.sin(math.pi * x**2) + math.sqrt(x**2 + 1)) / (math.e**(2 * x) + math.cos((math.pi / 4) * x))\n",
    "\n",
    "# In kết quả làm tròn 2 chữ số thập phân\n",
    "print(f\"y1 = {y1:.2f}\")\n",
    "print(f\"y2 = {y2:.2f}\")"
   ]
  },
  {
   "cell_type": "markdown",
   "id": "4223e814-6e1f-4349-88ef-7fce568996a5",
   "metadata": {},
   "source": [
    "## KhoangCach."
   ]
  },
  {
   "cell_type": "raw",
   "id": "7797e140-d5fb-4be4-8f4f-b797a465748b",
   "metadata": {},
   "source": [
    "Bài 10. Khoảng cách \n",
    "Tính khoảng cách giữa 2 điểm A(𝑥1, 𝑦1) và B(𝑥2, 𝑦2)."
   ]
  },
  {
   "cell_type": "code",
   "execution_count": 4,
   "id": "fafde8d9-487b-476b-b147-85bc794535b2",
   "metadata": {},
   "outputs": [
    {
     "name": "stdin",
     "output_type": "stream",
     "text": [
      "Nhap hoanh do x1:  3\n",
      "Nhap tung do y1:  4\n",
      "Nhap hoanh do x2:  5\n",
      "Nhap tung do y2:  1\n"
     ]
    },
    {
     "name": "stdout",
     "output_type": "stream",
     "text": [
      "Khoang cach giua A(3.0, 4.0) va B(5.0, 1.0) la 3.61\n"
     ]
    }
   ],
   "source": [
    "# Nhập tọa độ hai điểm\n",
    "x1 = float(input(\"Nhap hoanh do x1: \"))\n",
    "y1 = float(input(\"Nhap tung do y1: \"))\n",
    "x2 = float(input(\"Nhap hoanh do x2: \"))\n",
    "y2 = float(input(\"Nhap tung do y2: \"))\n",
    "\n",
    "# Tính khoảng cách theo công thức: d = sqrt((x2 - x1)^2 + (y2 - y1)^2)\n",
    "d = math.sqrt((x2 - x1)**2 + (y2 - y1)**2)\n",
    "\n",
    "# In kết quả với 2 chữ số thập phân\n",
    "print(f\"Khoang cach giua A({x1}, {y1}) va B({x2}, {y2}) la {d:.2f}\")"
   ]
  },
  {
   "cell_type": "markdown",
   "id": "068ad91a-ca05-4ae0-aede-414162821930",
   "metadata": {},
   "source": [
    "# KẾT THÚC"
   ]
  }
 ],
 "metadata": {
  "kernelspec": {
   "display_name": "Python 3 (ipykernel)",
   "language": "python",
   "name": "python3"
  },
  "language_info": {
   "codemirror_mode": {
    "name": "ipython",
    "version": 3
   },
   "file_extension": ".py",
   "mimetype": "text/x-python",
   "name": "python",
   "nbconvert_exporter": "python",
   "pygments_lexer": "ipython3",
   "version": "3.12.1"
  }
 },
 "nbformat": 4,
 "nbformat_minor": 5
}
