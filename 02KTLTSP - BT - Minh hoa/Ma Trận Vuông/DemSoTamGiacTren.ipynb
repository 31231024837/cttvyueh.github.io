{
 "cells": [
  {
   "cell_type": "markdown",
   "id": "135c9761-621e-47bb-adbf-04c8deaeaa80",
   "metadata": {},
   "source": [
    "# Bài 3: Đếm loại số tam giác trên chéo chính\n",
    "Cho ma trận vuông A cấp n chứa các số thực (1 ≤ n ≤ 100). Hãy viết hàm liệt kê các phần\n",
    "tử nằm trong tam giác trên của đường chéo chính, phụ của ma trận vuông A (không tính\n",
    "nằm trên đường chéo chính, phụ)."
   ]
  },
  {
   "cell_type": "code",
   "execution_count": 2,
   "id": "846284e0-9986-4f68-866a-d070ce88956c",
   "metadata": {},
   "outputs": [
    {
     "name": "stdin",
     "output_type": "stream",
     "text": [
      "Nhập cấp ma trận n:  5\n"
     ]
    },
    {
     "name": "stdout",
     "output_type": "stream",
     "text": [
      "Nhập ma trận:\n"
     ]
    },
    {
     "name": "stdin",
     "output_type": "stream",
     "text": [
      " -5 5 5 0 0 \n",
      " 0 5 0 1 1 \n",
      " 0 5 0 0 0 \n",
      " 0 0 0 2 3 \n",
      " 1 1 1 4 7\n"
     ]
    },
    {
     "name": "stdout",
     "output_type": "stream",
     "text": [
      "Trong nửa tam giác trên đường chéo chính:\n",
      "+ 0 số âm\n",
      "+ 5 số dương\n",
      "+ 5 số không\n"
     ]
    }
   ],
   "source": [
    "def dem_so_tam_giac_tren_chinh(A):\n",
    "    n = len(A)\n",
    "    tam_giac_chinh = []\n",
    "\n",
    "    for i in range(n):\n",
    "        for j in range(n):\n",
    "            if i < j:  # tam giác trên đường chéo chính\n",
    "                tam_giac_chinh.append(A[i][j])\n",
    "\n",
    "    so_am = sum(1 for x in tam_giac_chinh if x < 0)\n",
    "    so_duong = sum(1 for x in tam_giac_chinh if x > 0)\n",
    "    so_khong = sum(1 for x in tam_giac_chinh if x == 0)\n",
    "\n",
    "    print(\"Trong nửa tam giác trên đường chéo chính:\")\n",
    "    print(f\"+ {so_am} số âm\")\n",
    "    print(f\"+ {so_duong} số dương\")\n",
    "    print(f\"+ {so_khong} số không\")\n",
    "\n",
    "n = int(input(\"Nhập cấp ma trận n: \"))\n",
    "\n",
    "A = []\n",
    "print(\"Nhập ma trận:\")\n",
    "for i in range(n):\n",
    "    row = list(map(float, input().split()))\n",
    "    A.append(row)\n",
    "\n",
    "dem_so_tam_giac_tren_chinh(A)"
   ]
  }
 ],
 "metadata": {
  "kernelspec": {
   "display_name": "Python 3 (ipykernel)",
   "language": "python",
   "name": "python3"
  },
  "language_info": {
   "codemirror_mode": {
    "name": "ipython",
    "version": 3
   },
   "file_extension": ".py",
   "mimetype": "text/x-python",
   "name": "python",
   "nbconvert_exporter": "python",
   "pygments_lexer": "ipython3",
   "version": "3.12.1"
  }
 },
 "nbformat": 4,
 "nbformat_minor": 5
}
