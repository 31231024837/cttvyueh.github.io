{
 "cells": [
  {
   "cell_type": "markdown",
   "id": "60ccaf29-3cdc-4922-8adf-83f7bfdc9eff",
   "metadata": {},
   "source": [
    "FILE PDF: 02KTLTSP - BT - Minh hoa"
   ]
  },
  {
   "cell_type": "code",
   "execution_count": 2,
   "id": "d551b649-9712-4ff0-a0d8-239f0276715b",
   "metadata": {},
   "outputs": [
    {
     "name": "stdin",
     "output_type": "stream",
     "text": [
      "Nhập vào số nguyên:  5\n"
     ]
    },
    {
     "name": "stdout",
     "output_type": "stream",
     "text": [
      "5 là số nguyên tố\n"
     ]
    }
   ],
   "source": [
    "def ktsnt(n):\n",
    "    if n < 2:  # 0, 1 không là số nguyên tố\n",
    "        return False\n",
    "    for i in range(2, int(n**0.5) + 1):  # kiểm tra đến căn bậc hai của n\n",
    "        if n % i == 0:\n",
    "            return False\n",
    "    return True\n",
    "\n",
    "# Nhập vào số nguyên cần kiểm tra\n",
    "a = int(input(\"Nhập vào số nguyên: \"))\n",
    "\n",
    "if ktsnt(a):\n",
    "    print(\"%d là số nguyên tố\" % a)\n",
    "else:\n",
    "    print(\"%d không là số nguyên tố\" % a)\n"
   ]
  },
  {
   "cell_type": "markdown",
   "id": "6a3120b4-651c-459c-bad3-a7e0217f1fda",
   "metadata": {},
   "source": [
    "#### Mở rộng: 1- a) Nhập vào N, liệt kê tất cả các số nguyên tố nhỏ hơn N"
   ]
  },
  {
   "cell_type": "code",
   "execution_count": 8,
   "id": "2d9f1f11-a43f-4f14-845f-9ad3caf781c3",
   "metadata": {},
   "outputs": [
    {
     "name": "stdout",
     "output_type": "stream",
     "text": [
      "Các số nguyên tố nhỏ hơn 200 là:\n",
      "2 3 5 7 11 13 17 19 23 29 31 37 41 43 47 53 59 61 67 71 73 79 83 89 97 101 103 107 109 113 127 131 137 139 149 151 157 163 167 173 179 181 191 193 197 199 "
     ]
    }
   ],
   "source": [
    "def lietkesnt(k):\n",
    "    if k <= 2:\n",
    "        print(\"Không có số nguyên tố nào nhỏ hơn\", k)\n",
    "    else:\n",
    "        print(f\"Các số nguyên tố nhỏ hơn {k} là:\")\n",
    "        for i in range(2, k):\n",
    "            if ktsnt(i):\n",
    "                print(i, end=\" \")\n",
    "n = 200\n",
    "lietkesnt(n)\n"
   ]
  },
  {
   "cell_type": "markdown",
   "id": "407f5d02-fc2e-482c-876a-57ab5df3a52f",
   "metadata": {},
   "source": [
    "#### Mở rộng: 1- b) In ra M số nguyên tố đầu tiên"
   ]
  },
  {
   "cell_type": "code",
   "execution_count": 7,
   "id": "16eae6e3-c86b-43fe-a883-f1e4c5705bec",
   "metadata": {},
   "outputs": [
    {
     "name": "stdout",
     "output_type": "stream",
     "text": [
      "10 số nguyên tố đầu tiên là:\n",
      "2 3 5 7 11 13 17 19 23 29 "
     ]
    }
   ],
   "source": [
    "def lietkeMsnt(M):\n",
    "    bien_dem = 0  # đếm từ 0 đến M-1\n",
    "    t = 2  # bắt đầu kiểm tra từ 2\n",
    "    print(f\"{M} số nguyên tố đầu tiên là:\")\n",
    "    while bien_dem < M:\n",
    "        if ktsnt(t):\n",
    "            print(t, end=\" \")\n",
    "            bien_dem += 1\n",
    "        t += 1\n",
    "\n",
    "M = 10\n",
    "lietkeMsnt(M)"
   ]
  },
  {
   "cell_type": "code",
   "execution_count": 10,
   "id": "b4023d1b-c32e-4021-a65a-c9bfe12fa5e0",
   "metadata": {},
   "outputs": [
    {
     "name": "stdin",
     "output_type": "stream",
     "text": [
      "Nhập M:  4\n",
      "Nhập N:  7\n"
     ]
    },
    {
     "name": "stdout",
     "output_type": "stream",
     "text": [
      "6 "
     ]
    }
   ],
   "source": [
    "def in_so_chan(M, N):\n",
    "    for i in range(M + 1, N):\n",
    "        if i % 2 == 0:\n",
    "            print(i, end=\" \")\n",
    "\n",
    "M = int(input(\"Nhập M: \"))\n",
    "N = int(input(\"Nhập N: \"))\n",
    "\n",
    "in_so_chan(M, N)"
   ]
  },
  {
   "cell_type": "markdown",
   "id": "d1872da4-caac-4370-ae54-2bc1ee811233",
   "metadata": {},
   "source": [
    "#### Mở rộng : 2-a) Tìm tất cả các số chia hết cho 7 nhưng không phải bội số của 5, nằm trong đoạn [99;999] (tính cả 99 và 999)"
   ]
  },
  {
   "cell_type": "code",
   "execution_count": 11,
   "id": "b7dbe544-9e9e-4a24-83f9-b7e7f024edad",
   "metadata": {},
   "outputs": [
    {
     "name": "stdout",
     "output_type": "stream",
     "text": [
      "112 119 126 133 147 154 161 168 182 189 196 203 217 224 231 238 252 259 266 273 287 294 301 308 322 329 336 343 357 364 371 378 392 399 406 413 427 434 441 448 462 469 476 483 497 504 511 518 532 539 546 553 567 574 581 588 602 609 616 623 637 644 651 658 672 679 686 693 707 714 721 728 742 749 756 763 777 784 791 798 812 819 826 833 847 854 861 868 882 889 896 903 917 924 931 938 952 959 966 973 987 994 "
     ]
    }
   ],
   "source": [
    "def lietke1(M, N):\n",
    "    for i in range(M, N + 1):\n",
    "        if (i % 7 == 0) and (i % 5 != 0):\n",
    "            print(i, end=\" \")\n",
    "\n",
    "M = 99\n",
    "N = 999\n",
    "lietke1(M, N)"
   ]
  },
  {
   "cell_type": "markdown",
   "id": "3919c854-87a8-4d66-b3ef-ae5c5db80107",
   "metadata": {},
   "source": [
    "#### Mở rộng : 2-b) Tìm số đầu tiên chia hết cho 9 và chia hết cho 7 nằm trong đoạn [M,N]"
   ]
  },
  {
   "cell_type": "code",
   "execution_count": 6,
   "id": "b032662e-c72b-4bcc-91dd-8940f930cadd",
   "metadata": {},
   "outputs": [
    {
     "name": "stdout",
     "output_type": "stream",
     "text": [
      "Số đầu tiên chia hết cho 9 và 7 là: 126\n"
     ]
    }
   ],
   "source": [
    "def lietke2(M, N):\n",
    "    q = -1\n",
    "    for i in range(M, N + 1):\n",
    "        if (i % 9 == 0) and (i % 7 == 0):\n",
    "            q = i\n",
    "            break\n",
    "    return q\n",
    "\n",
    "M = 64\n",
    "N = 300\n",
    "q = lietke2(M, N)\n",
    "\n",
    "if q == -1:\n",
    "    print(\"Không có số thỏa điều kiện\")\n",
    "else:\n",
    "    print(\"Số đầu tiên chia hết cho 9 và 7 là:\", q)"
   ]
  },
  {
   "cell_type": "markdown",
   "id": "31390637-0cd7-4f9b-aa9a-585024eaef69",
   "metadata": {},
   "source": [
    "# THỰC HÀNH 2"
   ]
  },
  {
   "cell_type": "markdown",
   "id": "5591660b-73c4-47f8-b834-036d8336db9a",
   "metadata": {},
   "source": [
    "### 1. Viết hàm tìm độ dài của một chuỗi (không dùng hàm len())"
   ]
  },
  {
   "cell_type": "code",
   "execution_count": 15,
   "id": "fc64080d-0b9e-40fb-bc55-562b1137cd83",
   "metadata": {},
   "outputs": [
    {
     "name": "stdout",
     "output_type": "stream",
     "text": [
      "chieu dai chuoi : 20\n",
      "check len() function: 20\n"
     ]
    }
   ],
   "source": [
    "def chieudaiChuoi(str1):\n",
    "    count = 0\n",
    "    for char in str1:  # duyệt từng ký tự trong chuỗi\n",
    "        count += 1     # tăng biến đếm mỗi lần gặp 1 ký tự\n",
    "    return count       # trả về độ dài\n",
    "\n",
    "ss = 'hello world ... !!!!'\n",
    "\n",
    "print('chieu dai chuoi : {}'.format(chieudaiChuoi(ss)))\n",
    "print('check len() function:', len(ss))"
   ]
  },
  {
   "cell_type": "markdown",
   "id": "11e5db6e-86f8-4f74-8296-d658c456403a",
   "metadata": {},
   "source": [
    "### 2. Viết chương trình đếm số lượng các từ trong một chuỗi (giả sử các từ trong chuỗi cách nhau bởi một khoảng trắng)"
   ]
  },
  {
   "cell_type": "code",
   "execution_count": 4,
   "id": "67247933-1e41-4367-b8a5-510854907a5b",
   "metadata": {},
   "outputs": [
    {
     "name": "stdout",
     "output_type": "stream",
     "text": [
      "input: Tach chuoi dung split\n",
      "tach tu: ['Tach', 'chuoi', 'dung', 'split']\n",
      "The number of words in string are: 4\n"
     ]
    }
   ],
   "source": [
    "#TRƯỜNG HỢP 1: DÙNG SPLIT\n",
    "test_string = \"Tach chuoi dung split\"\n",
    "print(\"input:\", test_string)\n",
    "\n",
    "temp = test_string.split()\n",
    "print(\"tach tu:\", temp)\n",
    "\n",
    "res = len(temp)\n",
    "print(\"The number of words in string are:\", res)"
   ]
  },
  {
   "cell_type": "code",
   "execution_count": 5,
   "id": "769cc764-0d4c-4ef7-a65a-ad1dd7947b20",
   "metadata": {},
   "outputs": [
    {
     "name": "stdout",
     "output_type": "stream",
     "text": [
      "The number of words in string are: 4\n"
     ]
    }
   ],
   "source": [
    "#TRƯỜNG HỢP 2: KO DÙNG SPLIT\n",
    "test_string = \"tach chuoi thanh tu\"\n",
    "\n",
    "# Kiểm tra chuỗi rỗng hoặc toàn khoảng trắng\n",
    "if len(test_string) == 0 or test_string.isspace():\n",
    "    print(\"The number of words in string are:\", 0)\n",
    "else:\n",
    "    total = 0\n",
    "    test_string = test_string + ' '  # thêm khoảng trắng cuối để dễ duyệt\n",
    "    for i in range(len(test_string) - 1):\n",
    "        # khi gặp ký tự thường mà ký tự sau là khoảng trắng → kết thúc 1 từ\n",
    "        if test_string[i] != ' ' and test_string[i + 1] == ' ':\n",
    "            total += 1\n",
    "    print(\"The number of words in string are:\", total)"
   ]
  },
  {
   "cell_type": "markdown",
   "id": "6956e502-b1d9-4215-a1f3-0512b0ad6354",
   "metadata": {},
   "source": [
    "### 3. Viết hàm đếm số lượng nguyên âm( a e i o u), phụ âm có trong chuỗi"
   ]
  },
  {
   "cell_type": "code",
   "execution_count": 7,
   "id": "c8e468b9-84d7-48da-82e7-8e0773bc9fef",
   "metadata": {},
   "outputs": [
    {
     "name": "stdout",
     "output_type": "stream",
     "text": [
      "13\n",
      "2 5\n"
     ]
    }
   ],
   "source": [
    "test_string = \"  !! fdafdaf \"\n",
    "valid_symbols = \"!@#$%^&*()_-=+{}[]|<>/>,.\"\n",
    "\n",
    "def dem_nguyenam_phuam(string):\n",
    "    nguyenam = 0\n",
    "    phuam = 0\n",
    "    for char in string:\n",
    "       if char != ' ' and char not in valid_symbols:\n",
    "            if char in \"aeiouAEIOU\": \n",
    "                nguyenam = nguyenam + 1\n",
    "            else:                     \n",
    "                phuam = phuam + 1\n",
    "    return nguyenam, phuam\n",
    "print(len(test_string))\n",
    "v, c = dem_nguyenam_phuam(test_string)\n",
    "print(v, c)"
   ]
  },
  {
   "cell_type": "code",
   "execution_count": null,
   "id": "fca28780-e38a-4c0c-a689-5cc22d3e4c1c",
   "metadata": {},
   "outputs": [],
   "source": []
  }
 ],
 "metadata": {
  "kernelspec": {
   "display_name": "Python 3 (ipykernel)",
   "language": "python",
   "name": "python3"
  },
  "language_info": {
   "codemirror_mode": {
    "name": "ipython",
    "version": 3
   },
   "file_extension": ".py",
   "mimetype": "text/x-python",
   "name": "python",
   "nbconvert_exporter": "python",
   "pygments_lexer": "ipython3",
   "version": "3.12.1"
  }
 },
 "nbformat": 4,
 "nbformat_minor": 5
}
